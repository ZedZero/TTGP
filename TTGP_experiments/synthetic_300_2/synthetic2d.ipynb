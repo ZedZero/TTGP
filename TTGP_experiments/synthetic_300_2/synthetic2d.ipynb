{
 "cells": [
  {
   "cell_type": "markdown",
   "metadata": {},
   "source": [
    "# Generated dataset\n",
    "\n",
    "Comparison of different inducing point GP-regression methods."
   ]
  },
  {
   "cell_type": "code",
   "execution_count": 1,
   "metadata": {
    "collapsed": false
   },
   "outputs": [],
   "source": [
    "# import sys\n",
    "# sys.path.append('/Users/IzmailovPavel/Documents/Education/Projects/Course Project/Code')\n",
    "import numpy as np\n",
    "\n",
    "from GP.covariance_functions import SquaredExponential\n",
    "from GP.gaussian_process_regression import GPR"
   ]
  },
  {
   "cell_type": "code",
   "execution_count": 2,
   "metadata": {
    "collapsed": true
   },
   "outputs": [],
   "source": [
    "data_params = np.array([1.0, 0.15, 0.2])\n",
    "data_covariance_obj = SquaredExponential(data_params)"
   ]
  },
  {
   "cell_type": "code",
   "execution_count": 3,
   "metadata": {
    "collapsed": true
   },
   "outputs": [],
   "source": [
    "gp = GPR(data_covariance_obj)\n",
    "num = 300\n",
    "test_num = 100\n",
    "dim = 2\n",
    "seed = 10"
   ]
  },
  {
   "cell_type": "code",
   "execution_count": 4,
   "metadata": {
    "collapsed": true
   },
   "outputs": [],
   "source": [
    "np.random.seed(seed)\n",
    "x_tr = np.random.rand(dim, num)\n",
    "if dim == 1:\n",
    "    x_test = np.linspace(0, 1, test_num)\n",
    "    x_test = x_test.reshape(1, test_num)\n",
    "else:\n",
    "    x_test = np.random.rand(dim, test_num)\n",
    "\n",
    "y_tr, y_test = gp.generate_data(x_tr, x_test, seed=seed)"
   ]
  },
  {
   "cell_type": "code",
   "execution_count": 6,
   "metadata": {
    "collapsed": false
   },
   "outputs": [],
   "source": [
    "np.save('x_tr', x_tr.T)\n",
    "np.save('y_tr', y_tr)\n",
    "np.save('x_te', x_test.T)\n",
    "np.save('y_te', y_test)"
   ]
  }
 ],
 "metadata": {
  "kernelspec": {
   "display_name": "Python 3",
   "language": "python",
   "name": "python3"
  },
  "language_info": {
   "codemirror_mode": {
    "name": "ipython",
    "version": 3
   },
   "file_extension": ".py",
   "mimetype": "text/x-python",
   "name": "python",
   "nbconvert_exporter": "python",
   "pygments_lexer": "ipython3",
   "version": "3.4.3"
  }
 },
 "nbformat": 4,
 "nbformat_minor": 0
}
