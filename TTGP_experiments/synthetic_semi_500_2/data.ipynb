{
 "cells": [
  {
   "cell_type": "code",
   "execution_count": 142,
   "metadata": {
    "collapsed": true
   },
   "outputs": [],
   "source": [
    "import numpy as np\n",
    "from matplotlib import pyplot as plt\n",
    "\n",
    "%matplotlib inline"
   ]
  },
  {
   "cell_type": "markdown",
   "metadata": {},
   "source": [
    "## Data"
   ]
  },
  {
   "cell_type": "code",
   "execution_count": 145,
   "metadata": {},
   "outputs": [
    {
     "data": {
      "text/plain": [
       "[<matplotlib.lines.Line2D at 0x10dca6a20>]"
      ]
     },
     "execution_count": 145,
     "metadata": {},
     "output_type": "execute_result"
    },
    {
     "data": {
      "image/png": "[encoded data removed]",
      "text/plain": [
       "<matplotlib.figure.Figure at 0x10d42f3c8>"
      ]
     },
     "metadata": {},
     "output_type": "display_data"
    }
   ],
   "source": [
    "n_per_class = 500\n",
    "\n",
    "sigma_1 = np.array([[1, 0.9], [0.9, 1]])\n",
    "mu_1 = np.array([3, 3])                    \n",
    "x_1 = np.random.multivariate_normal(mu_1, sigma_1, size=n_per_class)\n",
    "y_1 = np.ones((n_per_class, 1)) * 0\n",
    "\n",
    "sigma_2 = np.array([[.5, 0.], [0., .5]])\n",
    "mu_2 = np.array([-1, 4])                    \n",
    "x_2 = np.random.multivariate_normal(mu_2, sigma_2, size=n_per_class)\n",
    "y_2 = np.ones((n_per_class, 1)) * 1\n",
    "\n",
    "sigma_3 = np.array([[1., -0.3], [-0.3, .2]])\n",
    "mu_3 = np.array([2, 7])                    \n",
    "x_3 = np.random.multivariate_normal(mu_3, sigma_3, size=n_per_class)\n",
    "y_3 = np.ones((n_per_class, 1)) * 2\n",
    "\n",
    "plt.plot(x_1[:, 0], x_1[:, 1], 'bo')\n",
    "plt.plot(x_2[:, 0], x_2[:, 1], 'ro')\n",
    "plt.plot(x_3[:, 0], x_3[:, 1], 'go')"
   ]
  },
  {
   "cell_type": "code",
   "execution_count": 146,
   "metadata": {
    "collapsed": true
   },
   "outputs": [],
   "source": [
    "np.random.seed(10)\n",
    "x = np.vstack([x_1, x_2, x_3])\n",
    "y = np.vstack([y_1, y_2, y_3])\n",
    "xy = np.hstack([x, y])\n",
    "np.random.shuffle(xy)\n",
    "x, y = xy[:, :-1], xy[:, -1:]"
   ]
  },
  {
   "cell_type": "code",
   "execution_count": 147,
   "metadata": {
    "collapsed": true
   },
   "outputs": [],
   "source": [
    "n_tr = 500\n",
    "x_tr = x[:n_tr]\n",
    "y_tr = y[:n_tr]\n",
    "x_te = x[n_tr:]\n",
    "y_te = y[n_tr:]"
   ]
  },
  {
   "cell_type": "code",
   "execution_count": 148,
   "metadata": {},
   "outputs": [
    {
     "data": {
      "text/plain": [
       "[<matplotlib.lines.Line2D at 0x10de065f8>]"
      ]
     },
     "execution_count": 148,
     "metadata": {},
     "output_type": "execute_result"
    },
    {
     "data": {
      "image/png": "[encoded data removed]",
      "text/plain": [
       "<matplotlib.figure.Figure at 0x10b27f710>"
      ]
     },
     "metadata": {},
     "output_type": "display_data"
    }
   ],
   "source": [
    "plt.plot(x_tr[y_tr[:, 0] == 0][:, 0], x_tr[y_tr[:, 0] == 0][:, 1], 'bo')\n",
    "plt.plot(x_tr[y_tr[:, 0] == 1][:, 0], x_tr[y_tr[:, 0] == 1][:, 1], 'ro')\n",
    "plt.plot(x_tr[y_tr[:, 0] == 2][:, 0], x_tr[y_tr[:, 0] == 2][:, 1], 'go')"
   ]
  },
  {
   "cell_type": "code",
   "execution_count": 149,
   "metadata": {},
   "outputs": [
    {
     "data": {
      "text/plain": [
       "array([[ 1.],\n",
       "       [ 0.],\n",
       "       [ 2.],\n",
       "       [ 2.],\n",
       "       [ 2.],\n",
       "       [ 0.],\n",
       "       [ 2.],\n",
       "       [ 1.],\n",
       "       [ 0.],\n",
       "       [ 2.]])"
      ]
     },
     "execution_count": 149,
     "metadata": {},
     "output_type": "execute_result"
    }
   ],
   "source": [
    "y_tr[:10]"
   ]
  },
  {
   "cell_type": "markdown",
   "metadata": {},
   "source": [
    "## Semi-Supervised data"
   ]
  },
  {
   "cell_type": "code",
   "execution_count": 150,
   "metadata": {
    "collapsed": true
   },
   "outputs": [],
   "source": [
    "n_labeled = 10\n",
    "x_labeled = x_tr[:n_labeled]\n",
    "y_labeled = y_tr[:n_labeled]\n",
    "x_unlabeled = x_tr[n_labeled:]"
   ]
  },
  {
   "cell_type": "code",
   "execution_count": 151,
   "metadata": {},
   "outputs": [
    {
     "data": {
      "text/plain": [
       "[<matplotlib.lines.Line2D at 0x10df04438>]"
      ]
     },
     "execution_count": 151,
     "metadata": {},
     "output_type": "execute_result"
    },
    {
     "data": {
      "image/png": "[encoded data removed]",
      "text/plain": [
       "<matplotlib.figure.Figure at 0x10dd725c0>"
      ]
     },
     "metadata": {},
     "output_type": "display_data"
    }
   ],
   "source": [
    "plt.plot(x_unlabeled[:, 0], x_unlabeled[:, 1], 'kx')\n",
    "plt.plot(x_labeled[y_labeled[:, 0] == 0][:, 0], x_labeled[y_labeled[:, 0] == 0][:, 1], 'bo')\n",
    "plt.plot(x_labeled[y_labeled[:, 0] == 1][:, 0], x_labeled[y_labeled[:, 0] == 1][:, 1], 'ro')\n",
    "plt.plot(x_labeled[y_labeled[:, 0] == 2][:, 0], x_labeled[y_labeled[:, 0] == 2][:, 1], 'go')"
   ]
  },
  {
   "cell_type": "code",
   "execution_count": 152,
   "metadata": {},
   "outputs": [
    {
     "data": {
      "text/plain": [
       "array([[ 1.],\n",
       "       [ 0.],\n",
       "       [ 2.],\n",
       "       [ 2.],\n",
       "       [ 2.],\n",
       "       [ 0.],\n",
       "       [ 2.],\n",
       "       [ 1.],\n",
       "       [ 0.],\n",
       "       [ 2.]])"
      ]
     },
     "execution_count": 152,
     "metadata": {},
     "output_type": "execute_result"
    }
   ],
   "source": [
    "y_labeled"
   ]
  },
  {
   "cell_type": "code",
   "execution_count": 153,
   "metadata": {},
   "outputs": [],
   "source": [
    "np.save('data/x_tr.npy', x_labeled)\n",
    "np.save('data/y_tr.npy', y_labeled[:, 0])\n",
    "np.save('data/x_u.npy', x_unlabeled)\n",
    "np.save('data/x_te.npy', x_te)\n",
    "np.save('data/y_te.npy', y_te[:, 0])"
   ]
  },
  {
   "cell_type": "code",
   "execution_count": 154,
   "metadata": {
    "collapsed": true
   },
   "outputs": [],
   "source": [
    "np.save('data_full/x_tr.npy', x_tr)\n",
    "np.save('data_full/y_tr.npy', y_tr[:, 0])\n",
    "np.save('data_full/x_te.npy', x_te)\n",
    "np.save('data_full/y_te.npy', y_te[:, 0])"
   ]
  },
  {
   "cell_type": "code",
   "execution_count": 138,
   "metadata": {},
   "outputs": [
    {
     "data": {
      "text/plain": [
       "(10, 2)"
      ]
     },
     "execution_count": 138,
     "metadata": {},
     "output_type": "execute_result"
    }
   ],
   "source": [
    "x_labeled.shape"
   ]
  },
  {
   "cell_type": "code",
   "execution_count": 139,
   "metadata": {},
   "outputs": [
    {
     "data": {
      "text/plain": [
       "(1000, 2)"
      ]
     },
     "execution_count": 139,
     "metadata": {},
     "output_type": "execute_result"
    }
   ],
   "source": [
    "x_te.shape"
   ]
  },
  {
   "cell_type": "code",
   "execution_count": null,
   "metadata": {
    "collapsed": true
   },
   "outputs": [],
   "source": []
  }
 ],
 "metadata": {
  "kernelspec": {
   "display_name": "Python 3",
   "language": "python",
   "name": "python3"
  },
  "language_info": {
   "codemirror_mode": {
    "name": "ipython",
    "version": 3
   },
   "file_extension": ".py",
   "mimetype": "text/x-python",
   "name": "python",
   "nbconvert_exporter": "python",
   "pygments_lexer": "ipython3",
   "version": "3.6.2"
  }
 },
 "nbformat": 4,
 "nbformat_minor": 2
}
