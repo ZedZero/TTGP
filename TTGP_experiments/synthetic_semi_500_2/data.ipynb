{
 "cells": [
  {
   "cell_type": "code",
   "execution_count": 142,
   "metadata": {
    "collapsed": true
   },
   "outputs": [],
   "source": [
    "import numpy as np\n",
    "from matplotlib import pyplot as plt\n",
    "\n",
    "%matplotlib inline"
   ]
  },
  {
   "cell_type": "markdown",
   "metadata": {},
   "source": [
    "## Data"
   ]
  },
  {
   "cell_type": "code",
   "execution_count": 202,
   "metadata": {},
   "outputs": [
    {
     "data": {
      "text/plain": [
       "[<matplotlib.lines.Line2D at 0x1115319e8>]"
      ]
     },
     "execution_count": 202,
     "metadata": {},
     "output_type": "execute_result"
    },
    {
     "data": {
      "image/png": "[encoded data removed]",
      "text/plain": [
       "<matplotlib.figure.Figure at 0x111317e80>"
      ]
     },
     "metadata": {},
     "output_type": "display_data"
    }
   ],
   "source": [
    "n_per_class = 200\n",
    "\n",
    "sigma_1 = np.array([[.1, 0.0], [0.0, 3]])\n",
    "mu_1 = np.array([3, 3])                    \n",
    "x_1 = np.random.multivariate_normal(mu_1, sigma_1, size=n_per_class)\n",
    "y_1 = np.ones((n_per_class, 1)) * 0\n",
    "\n",
    "sigma_2 = np.array([[7., -0.3], [-0.3, .2]])\n",
    "mu_2 = np.array([2, 7])                    \n",
    "x_2 = np.random.multivariate_normal(mu_2, sigma_2, size=n_per_class)\n",
    "y_2 = np.ones((n_per_class, 1)) * 0\n",
    "\n",
    "sigma_3 = np.array([[8., 0.], [0., .5]])\n",
    "mu_3 = np.array([2, -3])                    \n",
    "x_3 = np.random.multivariate_normal(mu_3, sigma_3, size=n_per_class)\n",
    "y_3 = np.ones((n_per_class, 1)) * 0\n",
    "\n",
    "\n",
    "sigma_4 = np.array([[.5, 0.], [0., .5]])\n",
    "mu_4 = np.array([-1, 3])                    \n",
    "x_4 = np.random.multivariate_normal(mu_4, sigma_4, size=n_per_class)\n",
    "y_4 = np.ones((n_per_class, 1)) * 1\n",
    "\n",
    "sigma_5 = np.array([[.5, 0.], [0., .5]])\n",
    "mu_5 = np.array([7, 3])                    \n",
    "x_5 = np.random.multivariate_normal(mu_5, sigma_5, size=n_per_class)\n",
    "y_5 = np.ones((n_per_class, 1)) * 1\n",
    "\n",
    "\n",
    "\n",
    "plt.plot(x_1[:, 0], x_1[:, 1], 'bo')\n",
    "plt.plot(x_2[:, 0], x_2[:, 1], 'bo')\n",
    "plt.plot(x_3[:, 0], x_3[:, 1], 'bo')\n",
    "plt.plot(x_4[:, 0], x_4[:, 1], 'go')\n",
    "plt.plot(x_5[:, 0], x_5[:, 1], 'go')"
   ]
  },
  {
   "cell_type": "code",
   "execution_count": 203,
   "metadata": {
    "collapsed": true
   },
   "outputs": [],
   "source": [
    "np.random.seed(10)\n",
    "x = np.vstack([x_1, x_2, x_3, x_4, x_5])\n",
    "y = np.vstack([y_1, y_2, y_3, y_4, y_5])\n",
    "xy = np.hstack([x, y])\n",
    "np.random.shuffle(xy)\n",
    "x, y = xy[:, :-1], xy[:, -1:]"
   ]
  },
  {
   "cell_type": "code",
   "execution_count": 204,
   "metadata": {
    "collapsed": true
   },
   "outputs": [],
   "source": [
    "n_tr = 500\n",
    "x_tr = x[:n_tr]\n",
    "y_tr = y[:n_tr]\n",
    "x_te = x[n_tr:]\n",
    "y_te = y[n_tr:]"
   ]
  },
  {
   "cell_type": "code",
   "execution_count": 205,
   "metadata": {},
   "outputs": [
    {
     "data": {
      "text/plain": [
       "[<matplotlib.lines.Line2D at 0x1103a2860>]"
      ]
     },
     "execution_count": 205,
     "metadata": {},
     "output_type": "execute_result"
    },
    {
     "data": {
      "image/png": "[encoded data removed]",
      "text/plain": [
       "<matplotlib.figure.Figure at 0x1103a2da0>"
      ]
     },
     "metadata": {},
     "output_type": "display_data"
    }
   ],
   "source": [
    "plt.plot(x_tr[y_tr[:, 0] == 0][:, 0], x_tr[y_tr[:, 0] == 0][:, 1], 'bo')\n",
    "plt.plot(x_tr[y_tr[:, 0] == 1][:, 0], x_tr[y_tr[:, 0] == 1][:, 1], 'ro')\n",
    "# plt.plot(x_tr[y_tr[:, 0] == 2][:, 0], x_tr[y_tr[:, 0] == 2][:, 1], 'go')"
   ]
  },
  {
   "cell_type": "code",
   "execution_count": 206,
   "metadata": {},
   "outputs": [
    {
     "data": {
      "text/plain": [
       "array([[ 1.],\n",
       "       [ 1.],\n",
       "       [ 0.],\n",
       "       [ 0.],\n",
       "       [ 1.],\n",
       "       [ 1.],\n",
       "       [ 0.],\n",
       "       [ 0.],\n",
       "       [ 0.],\n",
       "       [ 0.]])"
      ]
     },
     "execution_count": 206,
     "metadata": {},
     "output_type": "execute_result"
    }
   ],
   "source": [
    "y_tr[:10]"
   ]
  },
  {
   "cell_type": "markdown",
   "metadata": {},
   "source": [
    "## Semi-Supervised data"
   ]
  },
  {
   "cell_type": "code",
   "execution_count": 207,
   "metadata": {
    "collapsed": true
   },
   "outputs": [],
   "source": [
    "n_labeled = 10\n",
    "x_labeled = x_tr[:n_labeled]\n",
    "y_labeled = y_tr[:n_labeled]\n",
    "x_unlabeled = x_tr[n_labeled:]"
   ]
  },
  {
   "cell_type": "code",
   "execution_count": 208,
   "metadata": {},
   "outputs": [
    {
     "data": {
      "text/plain": [
       "[<matplotlib.lines.Line2D at 0x1106b3128>]"
      ]
     },
     "execution_count": 208,
     "metadata": {},
     "output_type": "execute_result"
    },
    {
     "data": {
      "image/png": "[encoded data removed]",
      "text/plain": [
       "<matplotlib.figure.Figure at 0x11136f048>"
      ]
     },
     "metadata": {},
     "output_type": "display_data"
    }
   ],
   "source": [
    "plt.plot(x_unlabeled[:, 0], x_unlabeled[:, 1], 'kx')\n",
    "plt.plot(x_labeled[y_labeled[:, 0] == 0][:, 0], x_labeled[y_labeled[:, 0] == 0][:, 1], 'bo')\n",
    "plt.plot(x_labeled[y_labeled[:, 0] == 1][:, 0], x_labeled[y_labeled[:, 0] == 1][:, 1], 'ro')\n",
    "plt.plot(x_labeled[y_labeled[:, 0] == 2][:, 0], x_labeled[y_labeled[:, 0] == 2][:, 1], 'go')"
   ]
  },
  {
   "cell_type": "code",
   "execution_count": 209,
   "metadata": {},
   "outputs": [
    {
     "data": {
      "text/plain": [
       "array([[ 1.],\n",
       "       [ 1.],\n",
       "       [ 0.],\n",
       "       [ 0.],\n",
       "       [ 1.],\n",
       "       [ 1.],\n",
       "       [ 0.],\n",
       "       [ 0.],\n",
       "       [ 0.],\n",
       "       [ 0.]])"
      ]
     },
     "execution_count": 209,
     "metadata": {},
     "output_type": "execute_result"
    }
   ],
   "source": [
    "y_labeled"
   ]
  },
  {
   "cell_type": "code",
   "execution_count": 210,
   "metadata": {},
   "outputs": [],
   "source": [
    "np.save('data/x_tr.npy', x_labeled)\n",
    "np.save('data/y_tr.npy', y_labeled[:, 0])\n",
    "np.save('data/x_u.npy', x_unlabeled)\n",
    "np.save('data/x_te.npy', x_te)\n",
    "np.save('data/y_te.npy', y_te[:, 0])"
   ]
  },
  {
   "cell_type": "code",
   "execution_count": 211,
   "metadata": {
    "collapsed": true
   },
   "outputs": [],
   "source": [
    "np.save('data_full/x_tr.npy', x_tr)\n",
    "np.save('data_full/y_tr.npy', y_tr[:, 0])\n",
    "np.save('data_full/x_te.npy', x_te)\n",
    "np.save('data_full/y_te.npy', y_te[:, 0])"
   ]
  },
  {
   "cell_type": "code",
   "execution_count": 193,
   "metadata": {},
   "outputs": [
    {
     "data": {
      "text/plain": [
       "(10, 2)"
      ]
     },
     "execution_count": 193,
     "metadata": {},
     "output_type": "execute_result"
    }
   ],
   "source": [
    "x_labeled.shape"
   ]
  },
  {
   "cell_type": "code",
   "execution_count": 194,
   "metadata": {},
   "outputs": [
    {
     "data": {
      "text/plain": [
       "(500, 2)"
      ]
     },
     "execution_count": 194,
     "metadata": {},
     "output_type": "execute_result"
    }
   ],
   "source": [
    "x_te.shape"
   ]
  }
 ],
 "metadata": {
  "kernelspec": {
   "display_name": "Python 3",
   "language": "python",
   "name": "python3"
  },
  "language_info": {
   "codemirror_mode": {
    "name": "ipython",
    "version": 3
   },
   "file_extension": ".py",
   "mimetype": "text/x-python",
   "name": "python",
   "nbconvert_exporter": "python",
   "pygments_lexer": "ipython3",
   "version": "3.6.2"
  }
 },
 "nbformat": 4,
 "nbformat_minor": 2
}
