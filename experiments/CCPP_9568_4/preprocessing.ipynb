{
 "cells": [
  {
   "cell_type": "code",
   "execution_count": 45,
   "metadata": {
    "collapsed": true
   },
   "outputs": [],
   "source": [
    "import numpy as np\n",
    "from sklearn.utils import shuffle\n",
    "from sklearn.metrics import r2_score, mean_squared_error\n",
    "from sklearn.svm import SVR\n",
    "from sklearn.preprocessing import StandardScaler\n",
    "from openpyxl import load_workbook"
   ]
  },
  {
   "cell_type": "code",
   "execution_count": 24,
   "metadata": {
    "collapsed": false
   },
   "outputs": [],
   "source": [
    "wb = load_workbook('Folds5x2_pp.xlsx', read_only=True)\n",
    "ws = wb.get_sheet_by_name('Sheet1')\n",
    "rows = [r for r in ws.iter_rows()]"
   ]
  },
  {
   "cell_type": "code",
   "execution_count": 25,
   "metadata": {
    "collapsed": false
   },
   "outputs": [],
   "source": [
    "X = np.zeros((len(rows)-1, 4))\n",
    "y = np.zeros((len(rows)-1, 1))\n",
    "\n",
    "for i, row in enumerate(rows[1:]):\n",
    "    X[i] = np.array([elem.value for elem in row[:-1]])\n",
    "    y[i] = row[-1].value"
   ]
  },
  {
   "cell_type": "code",
   "execution_count": 30,
   "metadata": {
    "collapsed": false
   },
   "outputs": [],
   "source": [
    "n_tr = int(y.size * 0.8)\n",
    "x_test = X[n_tr:, :]\n",
    "y_test = y[n_tr:, :]\n",
    "x_tr = X[:n_tr, :]\n",
    "y_tr = y[:n_tr :]\n",
    "\n",
    "\n",
    "scaler_x = StandardScaler()\n",
    "scaler_y = StandardScaler()\n",
    "x_tr = scaler_x.fit_transform(x_tr)\n",
    "x_test = scaler_x.transform(x_test)\n",
    "y_tr = scaler_y.fit_transform(y_tr)\n",
    "y_test = scaler_y.transform(y_test)"
   ]
  },
  {
   "cell_type": "code",
   "execution_count": 31,
   "metadata": {
    "collapsed": false
   },
   "outputs": [
    {
     "data": {
      "text/plain": [
       "SVR(C=10.0, cache_size=200, coef0=0.0, degree=3, epsilon=0.1, gamma=0.0,\n",
       "  kernel='rbf', max_iter=-1, shrinking=True, tol=0.001, verbose=False)"
      ]
     },
     "execution_count": 31,
     "metadata": {},
     "output_type": "execute_result"
    }
   ],
   "source": [
    "svm = SVR(C=10.)\n",
    "svm.fit(x_tr, y_tr[:,0])"
   ]
  },
  {
   "cell_type": "code",
   "execution_count": 47,
   "metadata": {
    "collapsed": false
   },
   "outputs": [
    {
     "name": "stdout",
     "output_type": "stream",
     "text": [
      "0.942744048231\n",
      "0.238012235995\n"
     ]
    }
   ],
   "source": [
    "preds = svm.predict(x_test)\n",
    "print(r2_score(y_test, preds))\n",
    "print(np.sqrt(mean_squared_error(y_test, preds)))"
   ]
  },
  {
   "cell_type": "code",
   "execution_count": 33,
   "metadata": {
    "collapsed": false
   },
   "outputs": [],
   "source": [
    "x_tr = np.load('data/x_tr.npy')\n",
    "x_te = np.load('data/x_te.npy')\n",
    "y_tr = np.load('data/y_tr.npy')\n",
    "y_te = np.load('data/y_te.npy')"
   ]
  },
  {
   "cell_type": "code",
   "execution_count": 36,
   "metadata": {
    "collapsed": false
   },
   "outputs": [],
   "source": [
    "scaler_x = StandardScaler()\n",
    "scaler_y = StandardScaler()\n",
    "x_tr = scaler_x.fit_transform(x_tr) / 3\n",
    "x_te = scaler_x.transform(x_te) / 3\n",
    "y_tr = scaler_y.fit_transform(y_tr)\n",
    "y_te = scaler_y.transform(y_te)"
   ]
  },
  {
   "cell_type": "code",
   "execution_count": 37,
   "metadata": {
    "collapsed": false
   },
   "outputs": [
    {
     "data": {
      "text/plain": [
       "array([-0.48622388, -0.32567866,  1.11957435,  0.07335782])"
      ]
     },
     "execution_count": 37,
     "metadata": {},
     "output_type": "execute_result"
    }
   ],
   "source": [
    "x_te[238]"
   ]
  },
  {
   "cell_type": "code",
   "execution_count": 38,
   "metadata": {
    "collapsed": false
   },
   "outputs": [
    {
     "data": {
      "text/plain": [
       "array([[-0.58956776, -0.48432221,  0.31216444, -0.12435327],\n",
       "       [ 0.18931403,  0.54253426,  0.20137639, -0.0421639 ],\n",
       "       [ 0.33694814, -0.17857281, -0.23002558, -0.62776313],\n",
       "       ..., \n",
       "       [ 0.5230566 ,  0.52680101, -0.02019972, -0.84031397],\n",
       "       [ 0.21705135,  0.39883729,  0.03239663, -0.24877883],\n",
       "       [ 0.08820703,  0.2171183 ,  0.22096014, -0.12366835]])"
      ]
     },
     "execution_count": 38,
     "metadata": {},
     "output_type": "execute_result"
    }
   ],
   "source": [
    "x_te"
   ]
  },
  {
   "cell_type": "code",
   "execution_count": 44,
   "metadata": {
    "collapsed": false
   },
   "outputs": [
    {
     "data": {
      "text/plain": [
       "11"
      ]
     },
     "execution_count": 44,
     "metadata": {},
     "output_type": "execute_result"
    }
   ],
   "source": [
    "np.sum(x_tr < -1)"
   ]
  },
  {
   "cell_type": "code",
   "execution_count": 19,
   "metadata": {
    "collapsed": false
   },
   "outputs": [
    {
     "data": {
      "text/plain": [
       "array([[-0.58956776, -0.48432221,  0.31216444, -0.12435327],\n",
       "       [ 0.18931403,  0.54253426,  0.20137639, -0.0421639 ],\n",
       "       [ 0.33694814, -0.17857281, -0.23002558, -0.62776313],\n",
       "       ..., \n",
       "       [ 0.5230566 ,  0.52680101, -0.02019972, -0.84031397],\n",
       "       [ 0.21705135,  0.39883729,  0.03239663, -0.24877883],\n",
       "       [ 0.08820703,  0.2171183 ,  0.22096014, -0.12366835]])"
      ]
     },
     "execution_count": 19,
     "metadata": {},
     "output_type": "execute_result"
    }
   ],
   "source": [
    "x_te"
   ]
  },
  {
   "cell_type": "code",
   "execution_count": 49,
   "metadata": {
    "collapsed": false
   },
   "outputs": [
    {
     "data": {
      "text/plain": [
       "-1.924085129344733"
      ]
     },
     "execution_count": 49,
     "metadata": {},
     "output_type": "execute_result"
    }
   ],
   "source": [
    "np.min(y_tr)"
   ]
  },
  {
   "cell_type": "code",
   "execution_count": null,
   "metadata": {
    "collapsed": true
   },
   "outputs": [],
   "source": []
  }
 ],
 "metadata": {
  "kernelspec": {
   "display_name": "Python 3",
   "language": "python",
   "name": "python3"
  },
  "language_info": {
   "codemirror_mode": {
    "name": "ipython",
    "version": 3
   },
   "file_extension": ".py",
   "mimetype": "text/x-python",
   "name": "python",
   "nbconvert_exporter": "python",
   "pygments_lexer": "ipython3",
   "version": "3.4.3"
  }
 },
 "nbformat": 4,
 "nbformat_minor": 0
}
