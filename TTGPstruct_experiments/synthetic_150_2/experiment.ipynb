{
 "cells": [
  {
   "cell_type": "code",
   "execution_count": 2,
   "metadata": {
    "collapsed": false
   },
   "outputs": [],
   "source": [
    "import numpy as np\n",
    "import tensorflow as tf\n",
    "import t3f\n",
    "from scipy.spatial.distance import cdist\n",
    "from matplotlib import pyplot as plt\n",
    "\n",
    "from gptt_embed.gpstruct import TTGPstruct\n",
    "from gptt_embed import grid\n",
    "from gptt_embed.covariance import SE_multidim\n",
    "from gptt_embed.projectors import Identity\n",
    "%load_ext autoreload\n",
    "%autoreload 2\n",
    "\n",
    "%matplotlib inline"
   ]
  },
  {
   "cell_type": "markdown",
   "metadata": {},
   "source": [
    "## Data"
   ]
  },
  {
   "cell_type": "code",
   "execution_count": 3,
   "metadata": {
    "collapsed": false
   },
   "outputs": [],
   "source": [
    "x_tr = np.load('data/x_tr.npy')\n",
    "x_te = np.load('data/x_te.npy')\n",
    "y_tr = np.load('data/y_tr.npy')\n",
    "y_te = np.load('data/y_te.npy')"
   ]
  },
  {
   "cell_type": "code",
   "execution_count": 4,
   "metadata": {
    "collapsed": true
   },
   "outputs": [],
   "source": [
    "x_tr[x_tr > 1] = 1\n",
    "x_tr[x_tr < -1] = -1\n",
    "x_te[x_te > 1] = 1\n",
    "x_te[x_te < -1] = -1"
   ]
  },
  {
   "cell_type": "code",
   "execution_count": 5,
   "metadata": {
    "collapsed": true
   },
   "outputs": [],
   "source": [
    "D = x_tr.shape[-1]\n",
    "max_len = x_tr.shape[1]\n",
    "n_labels = 2\n",
    "n_seq = x_tr.shape[0]"
   ]
  },
  {
   "cell_type": "markdown",
   "metadata": {},
   "source": [
    "## GP"
   ]
  },
  {
   "cell_type": "markdown",
   "metadata": {},
   "source": [
    "### Inducing Inputs"
   ]
  },
  {
   "cell_type": "code",
   "execution_count": 6,
   "metadata": {
    "collapsed": false
   },
   "outputs": [],
   "source": [
    "num = 10\n",
    "inputs = grid.InputsGrid(D, left=-1., right=1., npoints=num)"
   ]
  },
  {
   "cell_type": "markdown",
   "metadata": {},
   "source": [
    "### Kernel"
   ]
  },
  {
   "cell_type": "code",
   "execution_count": 7,
   "metadata": {
    "collapsed": true
   },
   "outputs": [],
   "source": [
    "projector = Identity(D)\n",
    "cov = SE_multidim(n_labels, .7, .3, .1, projector)"
   ]
  },
  {
   "cell_type": "markdown",
   "metadata": {},
   "source": [
    "### GP"
   ]
  },
  {
   "cell_type": "code",
   "execution_count": 8,
   "metadata": {
    "collapsed": true
   },
   "outputs": [],
   "source": [
    "mu_ranks = 5\n",
    "gp = TTGPstruct(cov, inputs, mu_ranks)"
   ]
  },
  {
   "cell_type": "markdown",
   "metadata": {},
   "source": [
    "## Graph creation"
   ]
  },
  {
   "cell_type": "code",
   "execution_count": 9,
   "metadata": {
    "collapsed": true
   },
   "outputs": [],
   "source": [
    "seq_lens = np.ones(shape=(n_seq,)) * max_len"
   ]
  },
  {
   "cell_type": "code",
   "execution_count": 10,
   "metadata": {
    "collapsed": true
   },
   "outputs": [],
   "source": [
    "x_tr = tf.constant(x_tr)\n",
    "x_te = tf.constant(x_te)\n",
    "y_tr = tf.constant(y_tr)\n",
    "y_te = tf.constant(y_te)\n",
    "seq_lens = tf.constant(seq_lens)"
   ]
  },
  {
   "cell_type": "code",
   "execution_count": 20,
   "metadata": {
    "collapsed": true
   },
   "outputs": [],
   "source": [
    "N = n_seq\n",
    "lr = 1e-1\n",
    "global_step = tf.Variable(0, trainable=False)"
   ]
  },
  {
   "cell_type": "code",
   "execution_count": 21,
   "metadata": {
    "collapsed": false
   },
   "outputs": [
    {
     "name": "stdout",
     "output_type": "stream",
     "text": [
      "_latent_vars_distribution/x_flat (?, 2) = sum_len x 2\n",
      "_latent_vars_distribution/m_un_flat <unknown> = sum_len x 2\n",
      "cov_for_squared_dists/cov (2, 100, 5, 5) = [2, 100, 5, 5]\n",
      "_Knns/K_nn (2, 100, 5, 5) = 2 x 100 x 5 x 5\n",
      "_sample_f/f_un (2, 100, 5) = 2 100 5\n",
      "_sample_f/f_bin (4,) = 4\n"
     ]
    }
   ],
   "source": [
    "elbo_op, train_op = gp.fit(x_tr, y_tr, seq_lens, N, lr, global_step)"
   ]
  },
  {
   "cell_type": "markdown",
   "metadata": {},
   "source": [
    "## Learning"
   ]
  },
  {
   "cell_type": "code",
   "execution_count": 22,
   "metadata": {
    "collapsed": true
   },
   "outputs": [],
   "source": [
    "sess = tf.Session()"
   ]
  },
  {
   "cell_type": "code",
   "execution_count": 23,
   "metadata": {
    "collapsed": true
   },
   "outputs": [],
   "source": [
    "gp.initialize(sess)\n",
    "sess.run(tf.global_variables_initializer())"
   ]
  },
  {
   "cell_type": "code",
   "execution_count": 24,
   "metadata": {
    "collapsed": false
   },
   "outputs": [
    {
     "name": "stdout",
     "output_type": "stream",
     "text": [
      "8.27846428534\n",
      "6.58753277989\n",
      "8.09473076596\n",
      "6.77756289582\n",
      "4.80683954546\n",
      "6.824905037\n",
      "7.95233029201\n",
      "4.65919036889\n",
      "9.44133510011\n",
      "5.25769600379\n",
      "3.56398467284\n",
      "4.69237115586\n",
      "7.43096104829\n",
      "6.1746197009\n",
      "4.19621094493\n",
      "2.3038210289\n",
      "13.4038950734\n",
      "3.44952754194\n",
      "10.9763123175\n",
      "4.67408274314\n",
      "2.74941316358\n",
      "4.28733661198\n",
      "2.58002850208\n",
      "4.51204852769\n",
      "7.09438927297\n",
      "8.7086290502\n",
      "1.7131241527\n",
      "2.60872617966\n",
      "7.3182328436\n",
      "5.0911854982\n",
      "7.10977747437\n",
      "7.94159952562\n",
      "5.9805034622\n",
      "9.08986301825\n",
      "6.04303833763\n",
      "5.56983230912\n",
      "7.15836706642\n",
      "5.85679535074\n",
      "4.68902589369\n",
      "2.02592588457\n",
      "5.51997734988\n",
      "6.09862467554\n",
      "3.33671185236\n",
      "5.14314201919\n",
      "7.83659040689\n",
      "3.12824708882\n",
      "4.65128898466\n",
      "0.613285117875\n",
      "5.93721464225\n",
      "1.89777832996\n",
      "2.57874876458\n",
      "4.45384757896\n",
      "7.63960813376\n",
      "5.97712383036\n",
      "5.48308630809\n",
      "4.18546591636\n",
      "2.39169361914\n",
      "2.57912841229\n",
      "1.96941362077\n",
      "4.46781308776\n",
      "5.48572908209\n",
      "5.22242872661\n",
      "4.41639773283\n",
      "1.9208092835\n",
      "4.316329693\n",
      "7.43252002725\n",
      "7.5365575512\n",
      "2.29455746748\n",
      "5.48526341306\n",
      "5.06867042431\n",
      "4.11560898861\n",
      "4.20367830032\n",
      "2.00691915907\n",
      "-0.220974506316\n",
      "3.78660898827\n",
      "3.86328099562\n",
      "4.02562998426\n",
      "3.55127117315\n",
      "5.75300593364\n",
      "3.45552868512\n",
      "5.5881960566\n",
      "0.74193523272\n",
      "1.9016520684\n",
      "3.86940876779\n",
      "4.78244099907\n",
      "7.69655668702\n",
      "-0.422390384185\n",
      "6.30165879299\n",
      "7.03832727695\n",
      "0.0617533514326\n",
      "4.40679590817\n",
      "7.33231014631\n",
      "2.11178863016\n",
      "3.94649033905\n",
      "5.88912920224\n",
      "7.01485721999\n",
      "2.20117865822\n",
      "1.43875483114\n",
      "2.56809889753\n",
      "3.38194519084\n",
      "2.86939487854\n",
      "3.1079585593\n",
      "5.37713920413\n",
      "0.726708585237\n",
      "2.17286968718\n",
      "1.57335180524\n",
      "1.44226915566\n",
      "1.71411886527\n",
      "-1.36432446642\n",
      "1.7064362235\n",
      "4.69111819068\n",
      "3.30156609263\n",
      "4.31900252941\n",
      "8.1209868226\n",
      "2.82380614493\n",
      "2.73999332916\n",
      "5.81796575716\n",
      "7.96229999733\n",
      "6.10683462924\n",
      "4.38472083131\n",
      "10.3413539041\n",
      "3.23030388269\n",
      "1.5747472467\n",
      "6.19548618407\n",
      "6.63059261471\n",
      "4.61672808911\n",
      "1.95753201026\n",
      "4.82414319264\n",
      "2.21817712232\n",
      "4.7763487006\n",
      "5.11404033401\n",
      "5.01633393348\n",
      "2.95320066424\n",
      "-1.14946449814\n",
      "4.22518337977\n",
      "4.39869138883\n",
      "2.15434790875\n",
      "-0.24975264861\n",
      "1.76490923927\n",
      "4.87907083431\n",
      "4.43869485466\n",
      "1.5814700146\n",
      "3.77252308591\n",
      "4.96683456065\n",
      "0.707943869599\n",
      "2.75835078466\n",
      "3.06771658959\n",
      "3.12264840572\n",
      "-0.701419757142\n",
      "2.93034359963\n",
      "4.73079632075\n",
      "6.8319643795\n",
      "4.57931039333\n",
      "5.4939684805\n",
      "2.16189101523\n",
      "3.15226028489\n",
      "1.15725992939\n",
      "0.937869492935\n",
      "2.230502877\n",
      "5.30971552706\n",
      "4.88310836711\n",
      "3.57065916787\n",
      "5.48531469801\n",
      "3.75693490203\n",
      "2.88242098987\n",
      "0.63625862047\n",
      "3.8070517243\n",
      "4.00134952678\n",
      "3.97536065176\n",
      "3.86524763359\n",
      "3.49039447249\n",
      "7.21070134672\n",
      "5.85639108525\n",
      "6.02518960651\n",
      "3.08097303674\n",
      "3.49133414706\n",
      "4.36402168828\n",
      "6.84447044468\n",
      "1.92933023945\n",
      "2.32165016936\n",
      "3.97573130372\n",
      "2.3973423227\n",
      "2.09498673487\n",
      "3.64687301283\n",
      "1.86641827953\n",
      "3.79899099814\n",
      "4.43657992614\n",
      "4.76803038223\n",
      "4.80734627259\n",
      "0.655849263747\n",
      "1.37105719219\n",
      "6.40846620385\n",
      "4.14684908792\n",
      "8.26680580842\n",
      "3.20071515227\n",
      "6.32961855015\n",
      "5.99863737346\n",
      "4.31628327959\n",
      "1.6422701403\n",
      "4.09990488673\n",
      "1.16517832148\n",
      "2.92924826096\n",
      "0.649280622412\n",
      "4.65599810077\n",
      "2.92874310278\n",
      "0.625259387695\n",
      "5.59093070901\n",
      "1.73504824949\n",
      "1.23203483463\n",
      "3.27995680182\n",
      "0.588830218977\n",
      "6.00380449302\n",
      "3.2324717122\n",
      "2.27018436331\n",
      "2.12089446696\n",
      "2.14174822269\n",
      "5.90258508354\n",
      "1.15268525394\n",
      "5.92647243012\n",
      "6.64048383635\n",
      "1.02499040902\n",
      "2.08234105966\n",
      "2.19897961241\n",
      "1.26645636541\n",
      "4.04776558614\n",
      "2.78110889863\n",
      "0.531168131329\n",
      "3.05470717328\n",
      "4.22288659234\n",
      "3.0921397065\n",
      "2.27811189717\n",
      "-0.0362086111434\n",
      "3.55649789946\n",
      "5.04048723106\n",
      "-1.13626202689\n",
      "3.88431176432\n",
      "1.703525033\n",
      "5.38835766403\n",
      "-0.152670184695\n",
      "7.83856990843\n",
      "-0.417244488769\n",
      "2.88948197056\n",
      "0.577717785846\n",
      "3.6037396867\n",
      "3.82569091845\n",
      "1.2084178362\n",
      "2.56368244762\n",
      "3.45475757995\n",
      "2.22071183065\n",
      "2.63128657478\n",
      "4.97681136399\n",
      "4.34505939937\n",
      "2.86828500068\n",
      "2.33833318911\n",
      "4.90280448633\n",
      "5.78868915408\n",
      "1.14307272348\n",
      "0.0801032770315\n",
      "3.51941169009\n",
      "-2.43711547289\n",
      "2.60772369055\n",
      "4.23772317225\n",
      "5.91796765215\n",
      "3.59989674172\n",
      "-0.246202774102\n",
      "1.49374718134\n",
      "1.66221006149\n",
      "0.31989167743\n",
      "2.63283309234\n",
      "2.36644438286\n",
      "3.30739175517\n",
      "3.63540764507\n",
      "-0.73750648336\n",
      "2.48633103871\n",
      "1.88922612037\n",
      "1.81961998753\n",
      "5.74326934412\n",
      "4.01950910997\n",
      "3.57072418903\n",
      "1.46359903734\n",
      "2.14064861088\n",
      "1.93598859913\n",
      "3.34596152866\n",
      "7.8247555978\n",
      "1.33749585154\n",
      "1.27949012548\n",
      "6.29293746453\n",
      "3.06470352844\n",
      "3.01593671762\n",
      "2.99581169558\n",
      "5.79085384395\n",
      "4.38561101867\n",
      "4.82127040046\n",
      "1.46048323489\n",
      "3.34493613101\n",
      "5.33215193537\n",
      "1.82295172747\n",
      "3.86708432461\n",
      "3.41353333294\n",
      "2.9644251986\n"
     ]
    }
   ],
   "source": [
    "maxiter = 300\n",
    "elbo_vals = []\n",
    "for i in range(maxiter):\n",
    "    _, elbo = sess.run([train_op, elbo_op])\n",
    "    print(elbo)\n",
    "    elbo_vals.append(elbo)"
   ]
  },
  {
   "cell_type": "code",
   "execution_count": 25,
   "metadata": {
    "collapsed": false
   },
   "outputs": [
    {
     "data": {
      "text/plain": [
       "[<matplotlib.lines.Line2D at 0x14174db38>]"
      ]
     },
     "execution_count": 25,
     "metadata": {},
     "output_type": "execute_result"
    },
    {
     "data": {
      "image/png": "[encoded data removed]",
      "text/plain": [
       "<matplotlib.figure.Figure at 0x1407c0128>"
      ]
     },
     "metadata": {},
     "output_type": "display_data"
    }
   ],
   "source": [
    "plt.plot(elbo_vals)"
   ]
  },
  {
   "cell_type": "code",
   "execution_count": 26,
   "metadata": {
    "collapsed": false
   },
   "outputs": [
    {
     "data": {
      "text/plain": [
       "array([ 0.80533293, -1.29563771, -1.43339272,  0.78891315])"
      ]
     },
     "execution_count": 26,
     "metadata": {},
     "output_type": "execute_result"
    }
   ],
   "source": [
    "sess.run(gp.bin_mu)"
   ]
  },
  {
   "cell_type": "code",
   "execution_count": 27,
   "metadata": {
    "collapsed": false
   },
   "outputs": [
    {
     "data": {
      "text/plain": [
       "array([[ 0.38979463,  0.11245341,  0.1532574 ,  0.29890226],\n",
       "       [ 0.17390695,  0.57940048,  0.06817129,  0.22367735],\n",
       "       [ 0.21892469,  0.040923  ,  0.5037274 ,  0.20607707],\n",
       "       [ 0.33118395,  0.13344859,  0.16649125,  0.45372121]])"
      ]
     },
     "execution_count": 27,
     "metadata": {},
     "output_type": "execute_result"
    }
   ],
   "source": [
    "sess.run(gp.bin_sigma_l)"
   ]
  },
  {
   "cell_type": "markdown",
   "metadata": {},
   "source": [
    "## Prediction"
   ]
  },
  {
   "cell_type": "code",
   "execution_count": 28,
   "metadata": {
    "collapsed": true
   },
   "outputs": [],
   "source": [
    "seq_lens_te = tf.constant(np.ones([x_te.shape[0]]) * max_len)"
   ]
  },
  {
   "cell_type": "code",
   "execution_count": 40,
   "metadata": {
    "collapsed": false
   },
   "outputs": [
    {
     "name": "stdout",
     "output_type": "stream",
     "text": [
      "_latent_vars_distribution/x_flat (?, 2) = sum_len x 2\n",
      "_latent_vars_distribution/m_un_flat <unknown> = sum_len x 2\n",
      "cov_for_squared_dists/cov (2, 50, 5, 5) = [2, 50, 5, 5]\n",
      "_Knns/K_nn (2, 50, 5, 5) = 2 x 50 x 5 x 5\n"
     ]
    }
   ],
   "source": [
    "preds = gp.predict(x_te, seq_lens_te, sess)"
   ]
  },
  {
   "cell_type": "code",
   "execution_count": 46,
   "metadata": {
    "collapsed": false
   },
   "outputs": [
    {
     "data": {
      "text/plain": [
       "0.68799999999999994"
      ]
     },
     "execution_count": 46,
     "metadata": {},
     "output_type": "execute_result"
    }
   ],
   "source": [
    "np.sum(sess.run(y_te) == preds) / preds.size"
   ]
  },
  {
   "cell_type": "code",
   "execution_count": 43,
   "metadata": {
    "collapsed": false
   },
   "outputs": [
    {
     "data": {
      "text/plain": [
       "array([[0, 0, 0, 0, 1],\n",
       "       [1, 1, 1, 1, 1],\n",
       "       [1, 0, 0, 1, 1],\n",
       "       [0, 0, 0, 0, 1],\n",
       "       [1, 1, 1, 1, 1],\n",
       "       [1, 1, 1, 1, 1],\n",
       "       [0, 0, 1, 1, 0],\n",
       "       [1, 1, 1, 0, 0],\n",
       "       [1, 1, 1, 1, 1],\n",
       "       [0, 0, 0, 0, 0],\n",
       "       [1, 1, 1, 1, 1],\n",
       "       [0, 0, 0, 0, 0],\n",
       "       [0, 0, 0, 0, 0],\n",
       "       [1, 1, 1, 1, 1],\n",
       "       [1, 1, 1, 1, 1],\n",
       "       [0, 0, 0, 0, 0],\n",
       "       [1, 1, 1, 1, 1],\n",
       "       [1, 1, 1, 1, 1],\n",
       "       [1, 1, 1, 0, 0],\n",
       "       [1, 1, 1, 1, 1],\n",
       "       [1, 1, 1, 1, 1],\n",
       "       [1, 0, 0, 0, 0],\n",
       "       [1, 1, 1, 1, 1],\n",
       "       [0, 0, 0, 0, 0],\n",
       "       [1, 1, 1, 1, 1],\n",
       "       [0, 0, 0, 0, 0],\n",
       "       [0, 0, 0, 0, 0],\n",
       "       [1, 1, 0, 0, 0],\n",
       "       [1, 1, 1, 1, 1],\n",
       "       [1, 1, 1, 1, 1],\n",
       "       [1, 1, 1, 1, 1],\n",
       "       [0, 0, 0, 0, 0],\n",
       "       [1, 1, 1, 1, 1],\n",
       "       [1, 1, 1, 1, 1],\n",
       "       [0, 0, 0, 0, 0],\n",
       "       [0, 1, 1, 1, 1],\n",
       "       [0, 0, 0, 0, 0],\n",
       "       [0, 0, 0, 0, 0],\n",
       "       [1, 1, 1, 1, 1],\n",
       "       [0, 0, 0, 0, 0],\n",
       "       [1, 1, 1, 1, 1],\n",
       "       [0, 0, 0, 0, 0],\n",
       "       [1, 1, 1, 1, 1],\n",
       "       [1, 1, 1, 1, 1],\n",
       "       [1, 1, 1, 1, 1],\n",
       "       [1, 1, 1, 1, 0],\n",
       "       [1, 1, 1, 1, 1],\n",
       "       [1, 1, 1, 1, 1],\n",
       "       [1, 1, 1, 1, 1],\n",
       "       [1, 1, 1, 1, 1]])"
      ]
     },
     "execution_count": 43,
     "metadata": {},
     "output_type": "execute_result"
    }
   ],
   "source": [
    "sess.run(y_te)"
   ]
  },
  {
   "cell_type": "code",
   "execution_count": 41,
   "metadata": {
    "collapsed": false
   },
   "outputs": [
    {
     "data": {
      "text/plain": [
       "array([[1, 1, 1, 1, 1],\n",
       "       [1, 1, 1, 1, 1],\n",
       "       [1, 1, 1, 1, 1],\n",
       "       [1, 1, 1, 1, 1],\n",
       "       [1, 1, 1, 1, 1],\n",
       "       [1, 1, 1, 1, 1],\n",
       "       [0, 0, 0, 0, 0],\n",
       "       [0, 0, 0, 0, 0],\n",
       "       [1, 1, 1, 1, 1],\n",
       "       [0, 0, 0, 0, 0],\n",
       "       [1, 1, 1, 1, 1],\n",
       "       [1, 1, 1, 1, 1],\n",
       "       [0, 0, 0, 0, 0],\n",
       "       [0, 0, 0, 0, 0],\n",
       "       [1, 1, 1, 1, 1],\n",
       "       [1, 1, 1, 1, 1],\n",
       "       [0, 0, 0, 0, 0],\n",
       "       [1, 1, 1, 1, 1],\n",
       "       [1, 1, 1, 1, 1],\n",
       "       [1, 1, 1, 1, 1],\n",
       "       [1, 1, 1, 1, 1],\n",
       "       [0, 0, 0, 0, 0],\n",
       "       [1, 1, 1, 1, 1],\n",
       "       [0, 0, 0, 0, 0],\n",
       "       [0, 0, 0, 0, 0],\n",
       "       [1, 1, 1, 1, 1],\n",
       "       [1, 1, 1, 1, 1],\n",
       "       [1, 1, 1, 1, 1],\n",
       "       [1, 1, 1, 1, 1],\n",
       "       [1, 1, 1, 1, 1],\n",
       "       [1, 1, 1, 1, 1],\n",
       "       [1, 1, 1, 1, 1],\n",
       "       [1, 1, 1, 1, 1],\n",
       "       [1, 1, 1, 1, 1],\n",
       "       [0, 0, 0, 0, 0],\n",
       "       [1, 1, 1, 1, 1],\n",
       "       [1, 1, 1, 1, 1],\n",
       "       [1, 1, 1, 1, 1],\n",
       "       [1, 1, 1, 1, 1],\n",
       "       [0, 0, 0, 0, 0],\n",
       "       [1, 1, 1, 1, 1],\n",
       "       [0, 0, 0, 0, 0],\n",
       "       [1, 1, 1, 1, 1],\n",
       "       [1, 1, 1, 1, 1],\n",
       "       [1, 1, 1, 1, 1],\n",
       "       [1, 1, 1, 1, 1],\n",
       "       [0, 0, 0, 0, 0],\n",
       "       [1, 1, 1, 1, 1],\n",
       "       [1, 1, 1, 1, 1],\n",
       "       [1, 1, 1, 1, 1]])"
      ]
     },
     "execution_count": 41,
     "metadata": {},
     "output_type": "execute_result"
    }
   ],
   "source": [
    "preds"
   ]
  },
  {
   "cell_type": "code",
   "execution_count": 48,
   "metadata": {
    "collapsed": true
   },
   "outputs": [],
   "source": [
    "sess.close()"
   ]
  },
  {
   "cell_type": "code",
   "execution_count": null,
   "metadata": {
    "collapsed": true
   },
   "outputs": [],
   "source": []
  }
 ],
 "metadata": {
  "kernelspec": {
   "display_name": "Python 3",
   "language": "python",
   "name": "python3"
  }
 },
 "nbformat": 4,
 "nbformat_minor": 0
}
