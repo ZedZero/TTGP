{
 "cells": [
  {
   "cell_type": "code",
   "execution_count": 1,
   "metadata": {
    "collapsed": true
   },
   "outputs": [],
   "source": [
    "import numpy as np\n",
    "from copy import deepcopy\n",
    "from matplotlib import pyplot as plt\n",
    "import string\n",
    "\n",
    "%matplotlib inline"
   ]
  },
  {
   "cell_type": "code",
   "execution_count": 2,
   "metadata": {},
   "outputs": [],
   "source": [
    "letter_string = string.ascii_lowercase\n",
    "\n",
    "with open('data/letter.txt') as f:\n",
    "    words_x, words_y, words_letters = [], [], []\n",
    "    letters = []\n",
    "    vectors = []\n",
    "    folds = []\n",
    "    ys = []\n",
    "    for line in f:\n",
    "        entries = line.split('\\t')[:-1]\n",
    "        ys.append(letter_string.index(entries[1]))\n",
    "        letters.append(entries[1])\n",
    "        vectors.append(np.array(entries[6:]).astype(int))\n",
    "        if int(entries[2]) == -1:\n",
    "            words_y.append(np.array(ys))\n",
    "            words_letters.append(deepcopy(letters))\n",
    "            letters = []\n",
    "            folds.append(entries[5])\n",
    "            words_x.append(np.array(vectors))\n",
    "            vectors = []\n",
    "            ys = []\n",
    "folds = np.array(folds).astype(int).tolist()"
   ]
  },
  {
   "cell_type": "code",
   "execution_count": 3,
   "metadata": {
    "collapsed": true
   },
   "outputs": [],
   "source": [
    "def pad(x, y):\n",
    "    maxlen = np.max([seq.shape[0] for seq in x])\n",
    "    D = x[0].shape[1]\n",
    "    padded_x = []\n",
    "    padded_y = []\n",
    "    seq_lens = []\n",
    "    for seq, labels in list(zip(x, y)):\n",
    "        seq_len = seq.shape[0]\n",
    "        padded_seq = np.concatenate([seq, np.zeros((maxlen - seq_len, D))])[None, :, :]\n",
    "        padded_labels = np.concatenate([labels, np.zeros((maxlen - seq_len))])[None, :]\n",
    "        padded_x.append(padded_seq)\n",
    "        padded_y.append(padded_labels)\n",
    "        seq_lens.append(seq_len)\n",
    "    return np.concatenate(padded_x), np.concatenate(padded_y), np.array(seq_lens)\n",
    "\n",
    "def make_classification_data(x, y):\n",
    "    x_new, y_new = [], []\n",
    "    for seq, labels in list(zip(x, y)):\n",
    "        x_new.append(seq)\n",
    "        y_new.append(labels)\n",
    "    x_new = np.concatenate(x_new)\n",
    "    y_new = np.concatenate(y_new)\n",
    "    return x_new, y_new"
   ]
  },
  {
   "cell_type": "code",
   "execution_count": 4,
   "metadata": {},
   "outputs": [],
   "source": [
    "x_tr, x_te, y_tr, y_te = [], [], [], []\n",
    "for fold, x, y in list(zip(folds, words_x, words_y)):\n",
    "    if fold == 9:\n",
    "        x_te.append(x)\n",
    "        y_te.append(y)\n",
    "    else:\n",
    "        x_tr.append(x)\n",
    "        y_tr.append(y)"
   ]
  },
  {
   "cell_type": "markdown",
   "metadata": {},
   "source": [
    "## Classification Data"
   ]
  },
  {
   "cell_type": "code",
   "execution_count": 5,
   "metadata": {
    "collapsed": true
   },
   "outputs": [],
   "source": [
    "x_tr_class, y_tr_class = make_classification_data(x_tr, y_tr)\n",
    "x_te_class, y_te_class = make_classification_data(x_te, y_te)"
   ]
  },
  {
   "cell_type": "code",
   "execution_count": 6,
   "metadata": {
    "collapsed": true
   },
   "outputs": [],
   "source": [
    "np.save('data_class/x_tr', x_tr_class)\n",
    "np.save('data_class/x_te', x_te_class)\n",
    "np.save('data_class/y_tr', y_tr_class)\n",
    "np.save('data_class/y_te', y_te_class)"
   ]
  },
  {
   "cell_type": "markdown",
   "metadata": {},
   "source": [
    "## Struct Data"
   ]
  },
  {
   "cell_type": "code",
   "execution_count": 7,
   "metadata": {
    "collapsed": true
   },
   "outputs": [],
   "source": [
    "x_struct, y_struct, seq_lens = pad(words_x, words_y)"
   ]
  },
  {
   "cell_type": "code",
   "execution_count": 8,
   "metadata": {},
   "outputs": [],
   "source": [
    "x_tr_struct = x_struct[np.array(folds) != 9]\n",
    "x_te_struct = x_struct[np.array(folds) == 9]\n",
    "y_tr_struct = y_struct[np.array(folds) != 9]\n",
    "y_te_struct = y_struct[np.array(folds) == 9]\n",
    "seq_lens_tr = seq_lens[np.array(folds) != 9]\n",
    "seq_lens_te = seq_lens[np.array(folds) == 9]"
   ]
  },
  {
   "cell_type": "code",
   "execution_count": 9,
   "metadata": {
    "collapsed": true
   },
   "outputs": [],
   "source": [
    "np.save('data_struct/x_tr', x_tr_struct)\n",
    "np.save('data_struct/x_te', x_te_struct)\n",
    "np.save('data_struct/y_tr', y_tr_struct)\n",
    "np.save('data_struct/y_te', y_te_struct)\n",
    "np.save('data_struct/seq_lens_tr', seq_lens_tr)\n",
    "np.save('data_struct/seq_lens_te', seq_lens_te)"
   ]
  }
 ],
 "metadata": {
  "kernelspec": {
   "display_name": "Python 3",
   "language": "python",
   "name": "python3"
  },
  "language_info": {
   "codemirror_mode": {
    "name": "ipython",
    "version": 3
   },
   "file_extension": ".py",
   "mimetype": "text/x-python",
   "name": "python",
   "nbconvert_exporter": "python",
   "pygments_lexer": "ipython3",
   "version": "3.5.2"
  }
 },
 "nbformat": 4,
 "nbformat_minor": 1
}
