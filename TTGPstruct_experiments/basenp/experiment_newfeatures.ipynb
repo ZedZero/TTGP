{
 "cells": [
  {
   "cell_type": "code",
   "execution_count": 1,
   "metadata": {
    "collapsed": true
   },
   "outputs": [],
   "source": [
    "import numpy as np\n",
    "from sklearn.preprocessing import OneHotEncoder\n",
    "from sklearn.metrics import confusion_matrix\n",
    "from collections import defaultdict\n",
    "import operator"
   ]
  },
  {
   "cell_type": "code",
   "execution_count": 44,
   "metadata": {
    "collapsed": true
   },
   "outputs": [],
   "source": [
    "file = open('basenp_novi/1.y')"
   ]
  },
  {
   "cell_type": "code",
   "execution_count": 49,
   "metadata": {
    "collapsed": false
   },
   "outputs": [
    {
     "data": {
      "text/plain": [
       "'2'"
      ]
     },
     "execution_count": 49,
     "metadata": {},
     "output_type": "execute_result"
    }
   ],
   "source": [
    "next(file)[:-1]"
   ]
  },
  {
   "cell_type": "code",
   "execution_count": 15,
   "metadata": {
    "collapsed": false
   },
   "outputs": [
    {
     "data": {
      "text/plain": [
       "['1', '189', '1\\n']"
      ]
     },
     "execution_count": 15,
     "metadata": {},
     "output_type": "execute_result"
    }
   ],
   "source": [
    "l.split('\\t')"
   ]
  },
  {
   "cell_type": "code",
   "execution_count": 22,
   "metadata": {
    "collapsed": true
   },
   "outputs": [],
   "source": [
    "file.close()"
   ]
  },
  {
   "cell_type": "code",
   "execution_count": null,
   "metadata": {
    "collapsed": true
   },
   "outputs": [],
   "source": []
  },
  {
   "cell_type": "code",
   "execution_count": 77,
   "metadata": {
    "collapsed": true
   },
   "outputs": [],
   "source": [
    "def get_x():\n",
    "    maxlen = 65\n",
    "    n_features = 6438\n",
    "    seqs = []\n",
    "    for i in range(1, 824):\n",
    "        word_features = np.zeros([maxlen, n_features])\n",
    "        with open('basenp_novi/'+str(i)+'.x') as file:\n",
    "            for l in file:\n",
    "                word, f, _ = l.split('\\t')\n",
    "                word, f = int(word)-1, int(f)\n",
    "                word_features[word, f] = 1.\n",
    "            word_features = word_features[:word+1, :]\n",
    "        seqs.append(word_features)\n",
    "    return seqs\n",
    "\n",
    "def get_y():\n",
    "    maxlen = 65\n",
    "    n_features = 6438\n",
    "    labels = []\n",
    "    for i in range(1, 824):\n",
    "        seq_labels = []\n",
    "        with open('basenp_novi/'+str(i)+'.y') as file:\n",
    "            for l in file:\n",
    "                label = l[:-1]\n",
    "                label = int(label)\n",
    "                seq_labels.append(label)\n",
    "        labels.append(np.array(seq_labels))\n",
    "    return labels"
   ]
  },
  {
   "cell_type": "code",
   "execution_count": 89,
   "metadata": {
    "collapsed": true
   },
   "outputs": [],
   "source": [
    "def pad(x, y):\n",
    "    maxlen = np.max([seq.shape[0] for seq in x])\n",
    "    D = x[0].shape[1]\n",
    "    padded_x = []\n",
    "    padded_y = []\n",
    "    seq_lens = []\n",
    "    for seq, labels in list(zip(x, y)):\n",
    "        seq_len = seq.shape[0]\n",
    "        padded_seq = np.concatenate([seq, np.zeros((maxlen - seq_len, D))])[None, :, :]\n",
    "        padded_labels = np.concatenate([labels, np.zeros((maxlen - seq_len))])[None, :]\n",
    "        padded_x.append(padded_seq)\n",
    "        padded_y.append(padded_labels)\n",
    "        seq_lens.append(seq_len)\n",
    "    return np.concatenate(padded_x), np.concatenate(padded_y), np.array(seq_lens)\n",
    "\n",
    "def make_classification_data(x, y):\n",
    "    x_new, y_new = [], []\n",
    "    for seq, labels in list(zip(x, y)):\n",
    "        x_new.append(seq)\n",
    "        y_new.append(labels)\n",
    "    x_new = np.concatenate(x_new)\n",
    "    y_new = np.concatenate(y_new)\n",
    "#     y_new[y_new == 1] = 0\n",
    "#     y_new[y_new == 2] = 1\n",
    "    return x_new, y_new"
   ]
  },
  {
   "cell_type": "markdown",
   "metadata": {},
   "source": [
    "## Classification data"
   ]
  },
  {
   "cell_type": "code",
   "execution_count": 96,
   "metadata": {
    "collapsed": true
   },
   "outputs": [],
   "source": [
    "x = get_x()\n",
    "y = get_y()\n",
    "x_tr, y_tr = x[:500], y[:500]\n",
    "x_te, y_te = x[500:], y[500:]\n",
    "x_tr, y_tr = make_classification_data(x_tr, y_tr)\n",
    "x_te, y_te = make_classification_data(x_te, y_te)"
   ]
  },
  {
   "cell_type": "code",
   "execution_count": 100,
   "metadata": {
    "collapsed": false
   },
   "outputs": [
    {
     "data": {
      "text/plain": [
       "(11376, 6438)"
      ]
     },
     "execution_count": 100,
     "metadata": {},
     "output_type": "execute_result"
    }
   ],
   "source": [
    "x_tr.shape"
   ]
  },
  {
   "cell_type": "code",
   "execution_count": 99,
   "metadata": {
    "collapsed": true
   },
   "outputs": [],
   "source": [
    "np.save('data_class/x_tr', x_tr)\n",
    "np.save('data_class/x_te', x_te)\n",
    "np.save('data_class/y_tr', y_tr)\n",
    "np.save('data_class/y_te', y_te)"
   ]
  }
 ],
 "metadata": {
  "kernelspec": {
   "display_name": "Python 3",
   "language": "python",
   "name": "python3"
  },
  "language_info": {
   "codemirror_mode": {
    "name": "ipython",
    "version": 3
   },
   "file_extension": ".py",
   "mimetype": "text/x-python",
   "name": "python",
   "nbconvert_exporter": "python",
   "pygments_lexer": "ipython3",
   "version": "3.4.3"
  }
 },
 "nbformat": 4,
 "nbformat_minor": 0
}
