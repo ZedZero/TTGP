{
 "cells": [
  {
   "cell_type": "code",
   "execution_count": 1,
   "metadata": {
    "collapsed": false
   },
   "outputs": [],
   "source": [
    "import numpy as np\n",
    "import tensorflow as tf\n",
    "import t3f\n",
    "from scipy.spatial.distance import cdist\n",
    "from matplotlib import pyplot as plt\n",
    "from sklearn.preprocessing import StandardScaler\n",
    "\n",
    "from gptt_embed.gpstruct import TTGPstruct\n",
    "from gptt_embed import grid\n",
    "from gptt_embed.covariance import SE_multidim\n",
    "from gptt_embed.projectors import Identity\n",
    "%load_ext autoreload\n",
    "%autoreload 2\n",
    "\n",
    "%matplotlib inline"
   ]
  },
  {
   "cell_type": "markdown",
   "metadata": {},
   "source": [
    "## Data Loading"
   ]
  },
  {
   "cell_type": "code",
   "execution_count": 4,
   "metadata": {
    "collapsed": false
   },
   "outputs": [],
   "source": [
    "x_tr = np.load('data_struct_embed/x_tr.npy')\n",
    "x_te = np.load('data_struct_embed/x_te.npy')\n",
    "y_tr = np.load('data_struct_embed/y_tr.npy')\n",
    "y_te = np.load('data_struct_embed/y_te.npy')"
   ]
  },
  {
   "cell_type": "code",
   "execution_count": 5,
   "metadata": {
    "collapsed": false
   },
   "outputs": [
    {
     "data": {
      "text/plain": [
       "(100, 3, 2)"
      ]
     },
     "execution_count": 5,
     "metadata": {},
     "output_type": "execute_result"
    }
   ],
   "source": [
    "x_tr.shape"
   ]
  },
  {
   "cell_type": "code",
   "execution_count": 6,
   "metadata": {
    "collapsed": true
   },
   "outputs": [],
   "source": [
    "D = x_tr.shape[-1]"
   ]
  },
  {
   "cell_type": "code",
   "execution_count": 7,
   "metadata": {
    "collapsed": false
   },
   "outputs": [],
   "source": [
    "x_tr_flat = x_tr.reshape([-1, D])\n",
    "x_te_flat = x_te.reshape([-1, D])"
   ]
  },
  {
   "cell_type": "code",
   "execution_count": 8,
   "metadata": {
    "collapsed": true
   },
   "outputs": [],
   "source": [
    "scaler = StandardScaler()\n",
    "x_tr_flat = scaler.fit_transform(x_tr_flat)/3\n",
    "x_te_flat = scaler.transform(x_te_flat)/3"
   ]
  },
  {
   "cell_type": "code",
   "execution_count": 9,
   "metadata": {
    "collapsed": true
   },
   "outputs": [],
   "source": [
    "x_tr = x_tr_flat.reshape(x_tr.shape)\n",
    "x_te = x_te_flat.reshape(x_te.shape)"
   ]
  },
  {
   "cell_type": "code",
   "execution_count": 10,
   "metadata": {
    "collapsed": true
   },
   "outputs": [],
   "source": [
    "x_tr[x_tr > 1] = 1\n",
    "x_tr[x_tr < -1] = -1\n",
    "x_te[x_te > 1] = 1\n",
    "x_te[x_te < -1] = -1"
   ]
  },
  {
   "cell_type": "code",
   "execution_count": 11,
   "metadata": {
    "collapsed": true
   },
   "outputs": [],
   "source": [
    "max_len = x_tr.shape[1]\n",
    "n_labels = 4\n",
    "n_seq = x_tr.shape[0]"
   ]
  },
  {
   "cell_type": "markdown",
   "metadata": {},
   "source": [
    "## GP"
   ]
  },
  {
   "cell_type": "code",
   "execution_count": 12,
   "metadata": {
    "collapsed": true
   },
   "outputs": [],
   "source": [
    "num = 10\n",
    "inputs = grid.InputsGrid(D, left=-1., right=1., npoints=num)\n",
    "projector = Identity(D)\n",
    "cov = SE_multidim(n_labels, .7, .3, .1, projector)"
   ]
  },
  {
   "cell_type": "code",
   "execution_count": 13,
   "metadata": {
    "collapsed": true
   },
   "outputs": [],
   "source": [
    "mu_ranks = 5\n",
    "gp = TTGPstruct(cov, inputs, mu_ranks)"
   ]
  },
  {
   "cell_type": "markdown",
   "metadata": {},
   "source": [
    "## Graph Creation"
   ]
  },
  {
   "cell_type": "code",
   "execution_count": 14,
   "metadata": {
    "collapsed": true
   },
   "outputs": [],
   "source": [
    "seq_lens = np.ones(shape=(n_seq,)) * max_len"
   ]
  },
  {
   "cell_type": "code",
   "execution_count": 15,
   "metadata": {
    "collapsed": true
   },
   "outputs": [],
   "source": [
    "x_tr = tf.constant(x_tr)\n",
    "x_te = tf.constant(x_te)\n",
    "y_tr = tf.constant(y_tr)\n",
    "y_te = tf.constant(y_te)\n",
    "seq_lens = tf.constant(seq_lens)"
   ]
  },
  {
   "cell_type": "code",
   "execution_count": 16,
   "metadata": {
    "collapsed": true
   },
   "outputs": [],
   "source": [
    "N = n_seq\n",
    "global_step = tf.Variable(0, trainable=False)\n",
    "lr = tf.train.exponential_decay(1e-2, global_step, \n",
    "                                        50, 0.5, staircase=True)"
   ]
  },
  {
   "cell_type": "code",
   "execution_count": 17,
   "metadata": {
    "collapsed": false
   },
   "outputs": [
    {
     "name": "stdout",
     "output_type": "stream",
     "text": [
      "_latent_vars_distribution/x_flat (?, 2) = sum_len x 2\n",
      "_latent_vars_distribution/m_un_flat <unknown> = sum_len x 4\n",
      "cov_for_squared_dists/cov (4, 100, 3, 3) = [4, 100, 3, 3]\n",
      "_Knns/K_nn (4, 100, 3, 3) = 4 x 100 x 3 x 3\n",
      "_sample_f/f_un (4, 100, 3) = 4 100 3\n",
      "_sample_f/f_bin (16,) = 16\n"
     ]
    }
   ],
   "source": [
    "elbo_op, train_op = gp.fit(x_tr, y_tr, seq_lens, N, lr, global_step)"
   ]
  },
  {
   "cell_type": "markdown",
   "metadata": {},
   "source": [
    "## Learning"
   ]
  },
  {
   "cell_type": "code",
   "execution_count": 18,
   "metadata": {
    "collapsed": true
   },
   "outputs": [],
   "source": [
    "sess = tf.Session()\n",
    "gp.initialize(sess)\n",
    "sess.run(tf.global_variables_initializer())"
   ]
  },
  {
   "cell_type": "code",
   "execution_count": 19,
   "metadata": {
    "collapsed": false
   },
   "outputs": [
    {
     "name": "stdout",
     "output_type": "stream",
     "text": [
      "4408.58045045\n",
      "4273.91385019\n",
      "4137.10574592\n",
      "4008.72755217\n",
      "3888.08499065\n",
      "3770.81145711\n",
      "3657.77163053\n",
      "3550.5442148\n",
      "3448.26517178\n",
      "3351.07730904\n",
      "3259.62764823\n",
      "3169.7329038\n",
      "3085.62611601\n",
      "3002.22020869\n",
      "2927.83003821\n",
      "2852.02253876\n",
      "2781.39492818\n",
      "2713.47252022\n",
      "2650.12361974\n",
      "2587.4911309\n",
      "2527.202826\n",
      "2469.76638225\n",
      "2414.93479538\n",
      "2363.61894713\n",
      "2312.09213258\n",
      "2264.87053069\n",
      "2220.06507809\n",
      "2175.41445259\n",
      "2132.08829707\n",
      "2089.61508579\n",
      "2051.67912871\n",
      "2013.2931993\n",
      "1976.6302155\n",
      "1942.27330715\n",
      "1906.40636133\n",
      "1874.19727499\n",
      "1843.99218111\n",
      "1813.50840439\n",
      "1783.15488887\n",
      "1753.22582983\n",
      "1726.29832529\n",
      "1699.96110102\n",
      "1673.30215149\n",
      "1648.05073585\n",
      "1623.01104932\n",
      "1601.86139484\n",
      "1577.61174205\n",
      "1555.52972882\n",
      "1532.72162531\n",
      "1513.32738289\n",
      "1491.78582611\n",
      "1481.52707607\n",
      "1473.63342276\n",
      "1463.95432278\n",
      "1453.26086738\n",
      "1443.44619685\n",
      "1435.10861017\n",
      "1425.67425175\n",
      "1416.63712249\n",
      "1409.01888538\n",
      "1399.35965854\n",
      "1391.65694457\n",
      "1382.18735116\n",
      "1374.4176936\n",
      "1365.47447081\n",
      "1356.81812517\n",
      "1350.02976544\n",
      "1342.57942593\n",
      "1334.19062808\n",
      "1326.92683513\n",
      "1317.9928858\n",
      "1310.68191125\n",
      "1302.76907687\n",
      "1296.35801169\n",
      "1288.19707112\n",
      "1281.60933941\n",
      "1274.22440318\n",
      "1266.22092928\n",
      "1259.59857506\n",
      "1252.93769403\n",
      "1245.23657972\n",
      "1237.65417908\n",
      "1231.35791673\n",
      "1226.1227625\n",
      "1217.38238365\n",
      "1210.6354722\n",
      "1204.20533122\n",
      "1197.63644774\n",
      "1190.5314529\n",
      "1185.19282141\n",
      "1177.47434173\n",
      "1171.40902474\n",
      "1165.36261138\n",
      "1160.48407638\n",
      "1153.58551648\n",
      "1147.20329764\n",
      "1140.15917485\n",
      "1135.50112979\n",
      "1128.05890315\n",
      "1123.63210132\n",
      "1117.20090605\n",
      "1114.45443366\n",
      "1110.64435431\n",
      "1107.61152667\n",
      "1104.74142774\n",
      "1103.40326334\n",
      "1098.67776164\n",
      "1096.74846546\n",
      "1093.80061309\n",
      "1091.35521742\n",
      "1087.68341284\n",
      "1087.45767597\n",
      "1082.92263271\n",
      "1079.68441819\n",
      "1077.6692241\n",
      "1074.39885663\n",
      "1071.79672606\n",
      "1068.78130462\n",
      "1065.2886919\n",
      "1063.04723958\n",
      "1060.7288164\n",
      "1058.13883456\n",
      "1054.79664059\n",
      "1052.14066091\n",
      "1049.12850926\n",
      "1046.7368829\n",
      "1043.9253594\n",
      "1042.20072975\n",
      "1038.80897936\n",
      "1036.36943349\n",
      "1032.81667191\n",
      "1030.41236134\n",
      "1027.61100808\n",
      "1025.22325619\n",
      "1024.03982111\n",
      "1019.73398757\n",
      "1018.2272241\n",
      "1014.40460227\n",
      "1012.56228881\n",
      "1009.12539628\n",
      "1006.76879966\n",
      "1005.01933219\n",
      "1001.93539997\n",
      "999.892482293\n",
      "997.242365293\n",
      "993.865616134\n",
      "992.059544679\n",
      "988.180153253\n",
      "986.920004034\n",
      "983.417514092\n",
      "982.590471693\n",
      "980.195218199\n",
      "979.569616087\n",
      "977.854320688\n",
      "976.471564006\n",
      "975.182055197\n",
      "973.609120011\n",
      "972.445864697\n",
      "970.693704338\n",
      "969.919979158\n",
      "969.83778658\n",
      "968.622286473\n",
      "965.737306181\n",
      "966.314033419\n",
      "964.728604091\n",
      "961.658947962\n",
      "961.31114299\n",
      "960.738060386\n",
      "958.952542761\n",
      "958.048784238\n",
      "957.068116013\n",
      "955.811906781\n",
      "953.852670326\n",
      "952.999555357\n",
      "951.450863114\n",
      "950.484318371\n",
      "948.78583678\n",
      "948.215914772\n",
      "947.76560382\n",
      "946.000681363\n",
      "944.042901614\n",
      "943.600123041\n",
      "942.586253451\n",
      "940.73790506\n",
      "939.062960936\n",
      "937.140073129\n",
      "937.759580622\n",
      "936.603447831\n",
      "934.664656915\n",
      "933.372519752\n",
      "931.930025466\n",
      "930.514606728\n",
      "930.028468107\n",
      "928.631415574\n",
      "927.048717598\n",
      "925.989674463\n",
      "924.784612412\n",
      "923.929788525\n",
      "921.898124234\n",
      "920.767634403\n",
      "919.524529013\n",
      "918.718939519\n",
      "919.038507457\n",
      "918.231824529\n",
      "918.132168225\n",
      "916.350139178\n",
      "917.368881953\n",
      "915.555372489\n",
      "915.66147836\n",
      "914.06441866\n",
      "914.460482489\n",
      "913.884754948\n",
      "913.66095163\n",
      "911.623297139\n",
      "911.365314038\n",
      "911.779572774\n",
      "910.691538747\n",
      "910.307043941\n",
      "908.702208852\n",
      "908.662373029\n",
      "908.355814248\n",
      "907.74308431\n",
      "907.249437565\n",
      "906.289226383\n",
      "905.040436888\n",
      "904.316313646\n",
      "903.438301818\n",
      "903.277182966\n",
      "902.166057411\n",
      "902.892173095\n",
      "901.686969747\n",
      "901.445596414\n",
      "900.637581503\n",
      "899.910716805\n",
      "898.829043128\n",
      "898.510271723\n",
      "898.469258256\n",
      "897.705692153\n",
      "897.894605308\n",
      "896.305522753\n",
      "895.57382089\n",
      "895.917951595\n",
      "894.06520744\n",
      "893.483780652\n",
      "893.53934883\n",
      "892.741137527\n",
      "892.319483177\n",
      "891.533108245\n",
      "891.630548702\n",
      "890.135728823\n",
      "889.708145084\n",
      "889.702698711\n",
      "890.102326626\n",
      "888.483859049\n",
      "888.899468683\n",
      "887.829996628\n",
      "888.650246769\n",
      "887.29458516\n",
      "888.363960648\n",
      "887.092134146\n",
      "886.645940302\n",
      "885.956021557\n",
      "885.886725721\n",
      "885.344041834\n",
      "884.821148878\n",
      "885.827457422\n",
      "884.149125746\n",
      "884.81515784\n",
      "884.723078434\n",
      "885.590735113\n",
      "883.291080476\n",
      "883.733922296\n",
      "883.222072365\n",
      "882.721347541\n",
      "883.427954731\n",
      "881.609769612\n",
      "882.899067073\n",
      "880.252364134\n",
      "880.687648901\n",
      "880.839292555\n",
      "880.332247211\n",
      "880.21267906\n",
      "879.455451584\n",
      "879.723892214\n",
      "879.581656798\n",
      "878.666416598\n",
      "877.858725734\n",
      "878.205938452\n",
      "878.278721106\n",
      "879.013792603\n",
      "876.756886919\n",
      "876.885072723\n",
      "876.458693246\n",
      "877.092439555\n",
      "876.021730338\n",
      "875.949650313\n",
      "875.893308021\n",
      "874.827638815\n",
      "874.643959895\n",
      "873.692096027\n"
     ]
    }
   ],
   "source": [
    "maxiter = 300\n",
    "elbo_vals = []\n",
    "for i in range(maxiter):\n",
    "    _, elbo = sess.run([train_op, elbo_op])\n",
    "    print(elbo)\n",
    "    elbo_vals.append(elbo)"
   ]
  },
  {
   "cell_type": "code",
   "execution_count": 20,
   "metadata": {
    "collapsed": false
   },
   "outputs": [
    {
     "data": {
      "text/plain": [
       "[<matplotlib.lines.Line2D at 0x13b4c09e8>]"
      ]
     },
     "execution_count": 20,
     "metadata": {},
     "output_type": "execute_result"
    },
    {
     "data": {
      "image/png": "[encoded data removed]",
      "text/plain": [
       "<matplotlib.figure.Figure at 0x139fd7cf8>"
      ]
     },
     "metadata": {},
     "output_type": "display_data"
    }
   ],
   "source": [
    "plt.plot(elbo_vals)"
   ]
  },
  {
   "cell_type": "code",
   "execution_count": 24,
   "metadata": {
    "collapsed": false
   },
   "outputs": [],
   "source": [
    "bin_mu = sess.run(gp.bin_mu)"
   ]
  },
  {
   "cell_type": "code",
   "execution_count": 25,
   "metadata": {
    "collapsed": false
   },
   "outputs": [
    {
     "name": "stdout",
     "output_type": "stream",
     "text": [
      "0 0 0.576291190267\n",
      "0 1 0.226665580064\n",
      "0 2 -0.459092713189\n",
      "0 3 -0.593079039897\n",
      "1 0 -0.42196340216\n",
      "1 1 0.422851331173\n",
      "1 2 0.534951570405\n",
      "1 3 -0.563292794294\n",
      "2 0 -0.449503796348\n",
      "2 1 -0.533376093607\n",
      "2 2 0.209494048348\n",
      "2 3 0.306165229159\n",
      "3 0 0.468661402216\n",
      "3 1 -0.507516727564\n",
      "3 2 -0.577363059337\n",
      "3 3 0.278847117815\n"
     ]
    }
   ],
   "source": [
    "for i in range(4):\n",
    "    for j in range(4):\n",
    "        print(i, j, bin_mu[i * 4 + j])"
   ]
  },
  {
   "cell_type": "markdown",
   "metadata": {},
   "source": [
    "## Prediction"
   ]
  },
  {
   "cell_type": "code",
   "execution_count": 21,
   "metadata": {
    "collapsed": true
   },
   "outputs": [],
   "source": [
    "seq_lens_te = tf.constant(np.ones([x_te.shape[0]]) * max_len)"
   ]
  },
  {
   "cell_type": "code",
   "execution_count": 22,
   "metadata": {
    "collapsed": false
   },
   "outputs": [
    {
     "name": "stdout",
     "output_type": "stream",
     "text": [
      "_latent_vars_distribution/x_flat (?, 2) = sum_len x 2\n",
      "_latent_vars_distribution/m_un_flat <unknown> = sum_len x 4\n",
      "cov_for_squared_dists/cov (4, 50, 3, 3) = [4, 50, 3, 3]\n",
      "_Knns/K_nn (4, 50, 3, 3) = 4 x 50 x 3 x 3\n"
     ]
    }
   ],
   "source": [
    "preds = gp.predict(x_te, seq_lens_te, sess)"
   ]
  },
  {
   "cell_type": "code",
   "execution_count": 23,
   "metadata": {
    "collapsed": false
   },
   "outputs": [
    {
     "data": {
      "text/plain": [
       "0.95333333333333337"
      ]
     },
     "execution_count": 23,
     "metadata": {},
     "output_type": "execute_result"
    }
   ],
   "source": [
    "np.sum(sess.run(y_te) == preds) / preds.size"
   ]
  },
  {
   "cell_type": "code",
   "execution_count": 25,
   "metadata": {
    "collapsed": true
   },
   "outputs": [],
   "source": [
    "sess.close()"
   ]
  },
  {
   "cell_type": "code",
   "execution_count": null,
   "metadata": {
    "collapsed": true
   },
   "outputs": [],
   "source": []
  }
 ],
 "metadata": {
  "kernelspec": {
   "display_name": "Python 3",
   "language": "python",
   "name": "python3"
  },
  "language_info": {
   "codemirror_mode": {
    "name": "ipython",
    "version": 3
   },
   "file_extension": ".py",
   "mimetype": "text/x-python",
   "name": "python",
   "nbconvert_exporter": "python",
   "pygments_lexer": "ipython3",
   "version": "3.4.3"
  }
 },
 "nbformat": 4,
 "nbformat_minor": 0
}
