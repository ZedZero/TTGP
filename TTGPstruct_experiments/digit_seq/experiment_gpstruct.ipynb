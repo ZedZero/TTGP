{
 "cells": [
  {
   "cell_type": "code",
   "execution_count": 3,
   "metadata": {
    "collapsed": false
   },
   "outputs": [
    {
     "name": "stdout",
     "output_type": "stream",
     "text": [
      "The autoreload extension is already loaded. To reload it, use:\n",
      "  %reload_ext autoreload\n"
     ]
    }
   ],
   "source": [
    "import numpy as np\n",
    "import tensorflow as tf\n",
    "import t3f\n",
    "from scipy.spatial.distance import cdist\n",
    "from matplotlib import pyplot as plt\n",
    "from sklearn.preprocessing import StandardScaler\n",
    "\n",
    "from gptt_embed.gpstruct import TTGPstruct\n",
    "from gptt_embed import grid\n",
    "from gptt_embed.covariance import SE_multidim\n",
    "from gptt_embed.projectors import Identity\n",
    "%load_ext autoreload\n",
    "%autoreload 2\n",
    "\n",
    "%matplotlib inline"
   ]
  },
  {
   "cell_type": "markdown",
   "metadata": {},
   "source": [
    "## Data Loading"
   ]
  },
  {
   "cell_type": "code",
   "execution_count": 2,
   "metadata": {
    "collapsed": true
   },
   "outputs": [],
   "source": [
    "x_tr = np.load('data_struct/x_tr.npy')\n",
    "x_te = np.load('data_struct/x_te.npy')\n",
    "y_tr = np.load('data_struct/y_tr.npy')\n",
    "y_te = np.load('data_struct/y_te.npy')"
   ]
  },
  {
   "cell_type": "code",
   "execution_count": 4,
   "metadata": {
    "collapsed": false
   },
   "outputs": [
    {
     "data": {
      "text/plain": [
       "(100, 3, 4)"
      ]
     },
     "execution_count": 4,
     "metadata": {},
     "output_type": "execute_result"
    }
   ],
   "source": [
    "x_tr.shape"
   ]
  },
  {
   "cell_type": "code",
   "execution_count": 5,
   "metadata": {
    "collapsed": true
   },
   "outputs": [],
   "source": [
    "D = x_tr.shape[-1]"
   ]
  },
  {
   "cell_type": "code",
   "execution_count": 15,
   "metadata": {
    "collapsed": false
   },
   "outputs": [],
   "source": [
    "x_tr_flat = x_tr.reshape([-1, D])\n",
    "x_te_flat = x_te.reshape([-1, D])"
   ]
  },
  {
   "cell_type": "code",
   "execution_count": 16,
   "metadata": {
    "collapsed": true
   },
   "outputs": [],
   "source": [
    "scaler = StandardScaler()\n",
    "x_tr_flat = scaler.fit_transform(x_tr_flat)/3\n",
    "x_te_flat = scaler.transform(x_te_flat)/3"
   ]
  },
  {
   "cell_type": "code",
   "execution_count": 17,
   "metadata": {
    "collapsed": true
   },
   "outputs": [],
   "source": [
    "x_tr = x_tr_flat.reshape(x_tr.shape)\n",
    "x_te = x_te_flat.reshape(x_te.shape)"
   ]
  },
  {
   "cell_type": "code",
   "execution_count": 20,
   "metadata": {
    "collapsed": true
   },
   "outputs": [],
   "source": [
    "x_tr[x_tr > 1] = 1\n",
    "x_tr[x_tr < -1] = -1\n",
    "x_te[x_te > 1] = 1\n",
    "x_te[x_te < -1] = -1"
   ]
  },
  {
   "cell_type": "code",
   "execution_count": 21,
   "metadata": {
    "collapsed": true
   },
   "outputs": [],
   "source": [
    "max_len = x_tr.shape[1]\n",
    "n_labels = 4\n",
    "n_seq = x_tr.shape[0]"
   ]
  },
  {
   "cell_type": "markdown",
   "metadata": {},
   "source": [
    "## GP"
   ]
  },
  {
   "cell_type": "code",
   "execution_count": 23,
   "metadata": {
    "collapsed": true
   },
   "outputs": [],
   "source": [
    "num = 10\n",
    "inputs = grid.InputsGrid(D, left=-1., right=1., npoints=num)\n",
    "projector = Identity(D)\n",
    "cov = SE_multidim(n_labels, .7, .3, .1, projector)"
   ]
  },
  {
   "cell_type": "code",
   "execution_count": 24,
   "metadata": {
    "collapsed": true
   },
   "outputs": [],
   "source": [
    "mu_ranks = 5\n",
    "gp = TTGPstruct(cov, inputs, mu_ranks)"
   ]
  },
  {
   "cell_type": "markdown",
   "metadata": {},
   "source": [
    "## Graph Creation"
   ]
  },
  {
   "cell_type": "code",
   "execution_count": 25,
   "metadata": {
    "collapsed": true
   },
   "outputs": [],
   "source": [
    "seq_lens = np.ones(shape=(n_seq,)) * max_len"
   ]
  },
  {
   "cell_type": "code",
   "execution_count": 27,
   "metadata": {
    "collapsed": true
   },
   "outputs": [],
   "source": [
    "x_tr = tf.constant(x_tr)\n",
    "x_te = tf.constant(x_te)\n",
    "y_tr = tf.constant(y_tr)\n",
    "y_te = tf.constant(y_te)\n",
    "seq_lens = tf.constant(seq_lens)"
   ]
  },
  {
   "cell_type": "code",
   "execution_count": 28,
   "metadata": {
    "collapsed": true
   },
   "outputs": [],
   "source": [
    "N = n_seq\n",
    "global_step = tf.Variable(0, trainable=False)\n",
    "lr = tf.train.exponential_decay(1e-2, global_step, \n",
    "                                        50, 0.5, staircase=True)"
   ]
  },
  {
   "cell_type": "code",
   "execution_count": 29,
   "metadata": {
    "collapsed": false
   },
   "outputs": [
    {
     "name": "stdout",
     "output_type": "stream",
     "text": [
      "_latent_vars_distribution/x_flat (?, 4) = sum_len x 4\n",
      "_latent_vars_distribution/m_un_flat <unknown> = sum_len x 4\n",
      "cov_for_squared_dists/cov (4, 100, 3, 3) = [4, 100, 3, 3]\n",
      "_Knns/K_nn (4, 100, 3, 3) = 4 x 100 x 3 x 3\n",
      "_sample_f/f_un (4, 100, 3) = 4 100 3\n",
      "_sample_f/f_bin (16,) = 16\n"
     ]
    }
   ],
   "source": [
    "elbo_op, train_op = gp.fit(x_tr, y_tr, seq_lens, N, lr, global_step)"
   ]
  },
  {
   "cell_type": "markdown",
   "metadata": {},
   "source": [
    "## Learning"
   ]
  },
  {
   "cell_type": "code",
   "execution_count": 44,
   "metadata": {
    "collapsed": true
   },
   "outputs": [],
   "source": [
    "sess = tf.Session()\n",
    "gp.initialize(sess)\n",
    "sess.run(tf.global_variables_initializer())"
   ]
  },
  {
   "cell_type": "code",
   "execution_count": 45,
   "metadata": {
    "collapsed": false
   },
   "outputs": [
    {
     "name": "stdout",
     "output_type": "stream",
     "text": [
      "420.723420493\n",
      "448.224660951\n",
      "431.967048546\n",
      "442.6582077\n",
      "434.296404547\n",
      "428.186122397\n",
      "429.049368787\n",
      "427.878282855\n",
      "425.220608041\n",
      "424.338740643\n",
      "426.32855159\n",
      "426.073091727\n",
      "422.591349755\n",
      "423.39503181\n",
      "422.533719096\n",
      "423.238157012\n",
      "422.316179116\n",
      "422.407750305\n",
      "422.897393201\n",
      "422.994613476\n",
      "419.573434591\n",
      "419.717466463\n",
      "419.879492643\n",
      "418.665114104\n",
      "420.123288307\n",
      "418.128199689\n",
      "418.658039207\n",
      "417.380080114\n",
      "418.419203431\n",
      "416.365252401\n",
      "418.178546761\n",
      "417.462773584\n",
      "415.75815047\n",
      "416.859576269\n",
      "415.397439543\n",
      "417.280351282\n",
      "417.035658505\n",
      "415.925756503\n",
      "417.4757311\n",
      "415.656203383\n",
      "416.537289109\n",
      "416.173191688\n",
      "416.042545846\n",
      "415.026745222\n",
      "416.796075783\n",
      "415.630872763\n",
      "416.420916856\n",
      "415.074123603\n",
      "417.015407515\n",
      "415.924961833\n",
      "416.02203468\n",
      "416.367992151\n",
      "415.468414956\n",
      "414.635937245\n",
      "416.934782397\n",
      "416.536411042\n",
      "418.020680162\n",
      "416.626102035\n",
      "417.117403169\n",
      "414.826951929\n",
      "416.559373197\n",
      "415.653401109\n",
      "415.141634536\n",
      "415.495079011\n",
      "415.686115883\n",
      "416.318157532\n",
      "415.767869785\n",
      "415.629393061\n",
      "416.398994774\n",
      "415.155728459\n",
      "415.574852082\n",
      "414.44781189\n",
      "415.617463511\n",
      "416.393700993\n",
      "416.816288418\n",
      "414.354645065\n",
      "416.316552282\n",
      "416.633110408\n",
      "415.585904585\n",
      "415.274475143\n",
      "415.668727724\n",
      "415.447681669\n",
      "415.457869788\n",
      "416.761788078\n",
      "415.414728604\n",
      "415.489888033\n",
      "416.637426274\n",
      "415.114778528\n",
      "416.351522954\n",
      "416.53389508\n",
      "416.662717779\n",
      "415.057294427\n",
      "415.191550682\n",
      "416.535024408\n",
      "415.002229612\n",
      "416.161069667\n",
      "415.902120717\n",
      "415.241644238\n",
      "415.241110585\n",
      "417.436992351\n",
      "416.561772839\n",
      "416.332654237\n",
      "416.726776183\n",
      "414.996238537\n",
      "416.57333803\n",
      "416.623032879\n",
      "415.228234354\n",
      "415.582015557\n",
      "416.62261221\n",
      "416.825121781\n",
      "415.696505417\n",
      "416.076893125\n",
      "415.287479786\n",
      "415.953046783\n",
      "416.061930507\n",
      "416.126229847\n",
      "414.886302952\n",
      "415.604285976\n",
      "415.294313755\n",
      "416.06673173\n",
      "416.414767602\n",
      "416.288245248\n",
      "415.19770985\n",
      "416.18297524\n",
      "416.739974426\n",
      "416.131041117\n",
      "415.786808482\n",
      "416.131626085\n",
      "416.882789984\n",
      "416.279431119\n",
      "417.517583956\n",
      "417.379656685\n",
      "415.938903786\n",
      "414.285017507\n",
      "415.497221185\n",
      "415.945609646\n",
      "415.262291666\n",
      "415.914181427\n",
      "414.821503655\n",
      "416.089795321\n",
      "415.003791638\n",
      "416.080410536\n",
      "416.288715803\n",
      "416.536173934\n",
      "415.496181487\n",
      "415.894266641\n",
      "416.032780924\n",
      "415.619141325\n",
      "415.44383473\n",
      "415.972251374\n",
      "416.388204972\n",
      "416.820414651\n",
      "417.228710305\n",
      "416.572111593\n",
      "415.779651122\n",
      "416.073298294\n",
      "416.2349871\n",
      "416.583651243\n",
      "415.208758246\n",
      "414.273417703\n",
      "415.353724501\n",
      "414.605969239\n",
      "414.447023673\n",
      "416.127717706\n",
      "416.322090652\n",
      "415.042457755\n",
      "416.301982006\n",
      "416.94310247\n",
      "416.081200661\n",
      "416.814320634\n",
      "415.295307428\n",
      "416.367353738\n",
      "416.4450144\n",
      "416.408254166\n",
      "415.911287758\n",
      "415.230973987\n",
      "415.107299337\n",
      "416.070241445\n",
      "416.029687372\n",
      "416.487558982\n",
      "416.204098261\n",
      "416.676727993\n",
      "416.650185527\n",
      "415.134331272\n",
      "415.823648614\n",
      "416.564312477\n",
      "416.219266542\n",
      "416.038697133\n",
      "414.451432827\n",
      "415.022942552\n",
      "416.137657619\n",
      "415.985747784\n",
      "415.331078177\n",
      "416.343449233\n",
      "416.176206685\n",
      "415.56511746\n",
      "417.184963678\n",
      "415.034767555\n",
      "414.83243704\n",
      "416.813094477\n",
      "415.337245114\n",
      "416.906217373\n",
      "415.962087466\n",
      "415.711913808\n",
      "415.628775596\n",
      "415.393388031\n",
      "417.210724002\n",
      "415.904356337\n",
      "415.351610198\n",
      "415.802541559\n",
      "415.532999424\n",
      "416.067117399\n",
      "414.297476731\n",
      "417.181455763\n",
      "416.40913805\n",
      "415.986289239\n",
      "414.438854837\n",
      "416.594414969\n",
      "415.703906128\n",
      "416.006917963\n",
      "416.362647018\n",
      "416.506577309\n",
      "416.380137592\n",
      "415.7176376\n",
      "416.013609093\n",
      "415.517417605\n",
      "415.188864568\n",
      "415.043341613\n",
      "416.540795192\n",
      "414.944683626\n",
      "414.018740091\n",
      "414.929532987\n",
      "416.302077253\n",
      "415.126524623\n",
      "415.932650226\n",
      "415.741709317\n",
      "414.599755817\n",
      "416.092409799\n",
      "416.151949319\n",
      "415.626324581\n",
      "415.317565481\n",
      "415.848484708\n",
      "416.882307815\n",
      "416.20701832\n",
      "416.181112189\n",
      "416.648800681\n",
      "415.114529082\n",
      "416.21389435\n",
      "416.157810716\n",
      "415.961127877\n",
      "416.581409429\n",
      "416.840312053\n",
      "416.378800302\n",
      "416.422878835\n",
      "417.810278954\n",
      "415.842149093\n",
      "416.647471942\n",
      "415.95487349\n",
      "416.406584376\n",
      "414.867820198\n",
      "414.834592698\n",
      "415.223119704\n",
      "416.84778883\n",
      "416.175725864\n",
      "416.595351248\n",
      "415.356484774\n",
      "415.017319993\n",
      "415.698401474\n",
      "415.715390927\n",
      "416.839414617\n",
      "416.738839189\n",
      "416.590344243\n",
      "416.170193751\n",
      "416.295923521\n",
      "415.706518456\n",
      "415.762476074\n",
      "415.051802346\n",
      "414.697252482\n",
      "416.155661755\n",
      "416.289091702\n",
      "415.575150881\n",
      "416.601062039\n",
      "415.58804301\n",
      "415.353689259\n",
      "415.669804023\n",
      "414.325814452\n",
      "415.171519886\n",
      "416.100848584\n",
      "416.961849183\n",
      "417.719980161\n",
      "415.626000853\n",
      "417.409317141\n",
      "415.923427541\n",
      "415.345409513\n",
      "415.399763745\n",
      "415.230798362\n",
      "416.301976089\n",
      "416.593716707\n",
      "416.295935395\n",
      "415.398519599\n"
     ]
    }
   ],
   "source": [
    "maxiter = 300\n",
    "elbo_vals = []\n",
    "for i in range(maxiter):\n",
    "    _, elbo = sess.run([train_op, elbo_op])\n",
    "    print(elbo)\n",
    "    elbo_vals.append(elbo)"
   ]
  },
  {
   "cell_type": "code",
   "execution_count": 46,
   "metadata": {
    "collapsed": false
   },
   "outputs": [
    {
     "data": {
      "text/plain": [
       "[<matplotlib.lines.Line2D at 0x13f831470>]"
      ]
     },
     "execution_count": 46,
     "metadata": {},
     "output_type": "execute_result"
    },
    {
     "data": {
      "image/png": "[encoded data removed]",
      "text/plain": [
       "<matplotlib.figure.Figure at 0x141646ef0>"
      ]
     },
     "metadata": {},
     "output_type": "display_data"
    }
   ],
   "source": [
    "plt.plot(elbo_vals)"
   ]
  },
  {
   "cell_type": "code",
   "execution_count": 47,
   "metadata": {
    "collapsed": false
   },
   "outputs": [],
   "source": [
    "bin_mu = sess.run(gp.bin_mu)"
   ]
  },
  {
   "cell_type": "code",
   "execution_count": 48,
   "metadata": {
    "collapsed": false
   },
   "outputs": [
    {
     "name": "stdout",
     "output_type": "stream",
     "text": [
      "0 0 0.284346646432\n",
      "0 1 0.48891260916\n",
      "0 2 -0.441291968343\n",
      "0 3 -0.465623057161\n",
      "1 0 -0.487721928356\n",
      "1 1 0.390642511319\n",
      "1 2 0.47307786293\n",
      "1 3 -0.52077310591\n",
      "2 0 -0.441111372715\n",
      "2 1 -0.486265298509\n",
      "2 2 0.240500180407\n",
      "2 3 0.243854299075\n",
      "3 0 0.383966748784\n",
      "3 1 -0.584314357754\n",
      "3 2 -0.443184386154\n",
      "3 3 0.364858928813\n"
     ]
    }
   ],
   "source": [
    "for i in range(4):\n",
    "    for j in range(4):\n",
    "        print(i, j, bin_mu[i * 4 + j])"
   ]
  },
  {
   "cell_type": "markdown",
   "metadata": {},
   "source": [
    "## Prediction"
   ]
  },
  {
   "cell_type": "code",
   "execution_count": 49,
   "metadata": {
    "collapsed": true
   },
   "outputs": [],
   "source": [
    "seq_lens_te = tf.constant(np.ones([x_te.shape[0]]) * max_len)"
   ]
  },
  {
   "cell_type": "code",
   "execution_count": 50,
   "metadata": {
    "collapsed": false
   },
   "outputs": [
    {
     "name": "stdout",
     "output_type": "stream",
     "text": [
      "_latent_vars_distribution/x_flat (?, 4) = sum_len x 4\n",
      "_latent_vars_distribution/m_un_flat <unknown> = sum_len x 4\n",
      "cov_for_squared_dists/cov (4, 50, 3, 3) = [4, 50, 3, 3]\n",
      "_Knns/K_nn (4, 50, 3, 3) = 4 x 50 x 3 x 3\n"
     ]
    }
   ],
   "source": [
    "preds = gp.predict(x_te, seq_lens_te, sess)"
   ]
  },
  {
   "cell_type": "code",
   "execution_count": 51,
   "metadata": {
    "collapsed": false
   },
   "outputs": [
    {
     "data": {
      "text/plain": [
       "0.99333333333333329"
      ]
     },
     "execution_count": 51,
     "metadata": {},
     "output_type": "execute_result"
    }
   ],
   "source": [
    "np.sum(sess.run(y_te) == preds) / preds.size"
   ]
  },
  {
   "cell_type": "code",
   "execution_count": 52,
   "metadata": {
    "collapsed": true
   },
   "outputs": [],
   "source": [
    "sess.close()"
   ]
  }
 ],
 "metadata": {
  "kernelspec": {
   "display_name": "Python 3",
   "language": "python",
   "name": "python3"
  },
  "language_info": {
   "codemirror_mode": {
    "name": "ipython",
    "version": 3
   },
   "file_extension": ".py",
   "mimetype": "text/x-python",
   "name": "python",
   "nbconvert_exporter": "python",
   "pygments_lexer": "ipython3",
   "version": "3.4.3"
  }
 },
 "nbformat": 4,
 "nbformat_minor": 0
}
